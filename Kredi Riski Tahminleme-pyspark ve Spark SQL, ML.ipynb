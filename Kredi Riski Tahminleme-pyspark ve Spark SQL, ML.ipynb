{
 "cells": [
  {
   "cell_type": "markdown",
   "metadata": {
    "deletable": true,
    "editable": true
   },
   "source": [
    "\n",
    "## 0a. Install and running with Jupyter and Apache Toree\n",
    "\n",
    "do the following steps\n",
    "\n",
    "#### Download and Install JDK\n",
    "\n",
    "wget -c --header \"Cookie: oraclelicense=accept-securebackup-cookie\" http://download.oracle.com/otn-pub/java/jdk/8u144-b01/090f390dda5b47b9b721c7dfaa008135/jdk-8u144-linux-x64.rpm\n",
    "yum localinstall jdk-8u121-linux-x64.rpm\n",
    "\n",
    "#### Download and Install Spark\n",
    "\n",
    "    wget -c https://d3kbcqa49mib13.cloudfront.net/spark-2.2.0-bin-hadoop2.7.tgz\n",
    "    mkdir ~/spark\n",
    "    tar -zxvf spark-2.2.0-bin-hadoop2.6.tgz -C ~/spark/\n",
    "\n",
    "#### Set Environment variables\n",
    "\n",
    "Add following lines in your .bash_profile or .bashrc\n",
    "\n",
    "export SPARK_HOME=~/spark/spark-2.2.0-bin-hadoop2.7\n",
    "export PATH=$PATH:$SPARK_HOME/bin\n",
    "\n",
    "#### Test Spark Installation\n",
    "\n",
    "You can start Spark shell and Python shell by typing below commands\n",
    "\n",
    "#To start spark shell\n",
    "spark-shell\n",
    "#To start python shell\n",
    "pyspark\n",
    "\n",
    "#### Download and Install Anaconda\n",
    "\n",
    "    wget -c https://repo.continuum.io/archive/Anaconda3-5.0.0.1-Linux-x86_64.sh\n",
    "    bash Anaconda3-5.0.0.1-Linux-x86_64.sh\n",
    "\n",
    "####  Download and Install Apache Toree\n",
    "\n",
    "    wget -c https://dist.apache.org/repos/dist/dev/incubator/toree/0.2.0/snapshots/dev1/toree-pip/toree-0.2.0.dev1.tar.gz\n",
    "    pip install toree-0.2.0.dev1.tar.gz\n",
    "    jupyter toree install --spark_home=$SPARK_HOME --interpreters=Scala,PySpark,SQL --user\n",
    "#### Start Jupyter Server ( for local machine)\n",
    "\n",
    "    jupyter notebook --no-browser\n",
    "\n"
   ]
  },
  {
   "cell_type": "code",
   "execution_count": 1,
   "metadata": {
    "collapsed": false,
    "deletable": true,
    "editable": true,
    "scrolled": true
   },
   "outputs": [
    {
     "data": {
      "text/plain": [
       "2.3.0"
      ]
     },
     "execution_count": 1,
     "metadata": {},
     "output_type": "execute_result"
    }
   ],
   "source": [
    "sc.version"
   ]
  },
  {
   "cell_type": "code",
   "execution_count": 2,
   "metadata": {
    "collapsed": false,
    "deletable": true,
    "editable": true
   },
   "outputs": [
    {
     "data": {
      "text/plain": [
       "<pyspark.sql.session.SparkSession object at 0x7f3949cb7290>"
      ]
     },
     "execution_count": 2,
     "metadata": {},
     "output_type": "execute_result"
    }
   ],
   "source": [
    "#No need to create new spark sesion since it is created by he notebook\n",
    "#from pyspark.sql import SparkSession\n",
    "#\n",
    "#spark = SparkSession \\\n",
    "#    .builder \\\n",
    "#    .appName(\"Python Spark SQL basic example\") \\\n",
    "#    .config(\"spark.some.config.option\", \"some-value\") \\\n",
    "#    .getOrCreate()\n",
    "spark    "
   ]
  },
  {
   "cell_type": "markdown",
   "metadata": {
    "deletable": true,
    "editable": true
   },
   "source": [
    "# Kredi Risk Değerlendirme (Veri Analizi ve Makine Öğrenimi)\n",
    "## Amaç ve Kapsam\n",
    "Bu çalışma kapsamında banka  müşterilerinin kredi riskini analiz edeceğiz. Bir müşterinin kişisel bilgileri ile geçmiş banka kayıtları verilerini birleştirerek kredi borcunu zamanında kapatıp kapatması arasındaki ilişkiyi analiz etmeye çalışacağız.\n",
    "Açık kaynaklı veriler kullanacağız"
   ]
  },
  {
   "cell_type": "markdown",
   "metadata": {
    "deletable": true,
    "editable": true
   },
   "source": [
    " ## Verilerin Toplanması\n",
    "Yeh ve Lien (2009) tarafından kredi riskini değerlendirmek amacıyla kullanılan bir veri setini http://archive.ics.uci.edu/ml/datasets/default+of+credit+card+clients paylaşmış durumdadır. Tayvan daki banka müşterilerinin kredi risk değerlenmesi üzerine yapılan biir araştırmanın parçası olarak yayınlanmıştır.\n",
    "\n",
    "Veriler etiketlidir , bu yüzden güdümlü öğrenme teknikleri kullanılacaktır.\n",
    "\n",
    "* Güdümlü öğrenme kullanarak ve müşterilerin 6 aylık örüntülerine bakarak kredi ödemesinde sıkıntı olacak müşterileri tahmin edeceğiz.\n",
    "* Veri setini inceleyerek yeni öznitelikler türeteceğiz.\n",
    "* Kullandığımız yöntemlerin başarısını inceleyeceğiz.\n"
   ]
  },
  {
   "cell_type": "markdown",
   "metadata": {
    "deletable": true,
    "editable": true
   },
   "source": [
    "```bash\n",
    "mkdir ./veri/\n",
    "wget http://archive.ics.uci.edu/ml/machine-learning-databases/00350/default%20of%20credit%20card%20clients.xls -O ./veri/default-of-credit-card-clients.xls \n",
    "\n",
    "wget https://safirdepo.b3lab.org/shares/public/share/ZRIm14IrTlOK35cE1C9Yc7N52RFMyeuf/Credit_Scoring_test.csv -O ./veri/Credit_Scoring_test.csv\n",
    "\n",
    "# Eğer veriyi HDFS e aktaracaksak aşağıdaki komutlar çalıştırılır\n",
    "\n",
    "hdfs dfs -put ./veri/Credit_Scoring_train.csv /tmp/\n",
    "hdfs dfs -put ./veri/Credit_Scoring_test.csv /tmp/\n",
    "hdfs dfs -ls /tmp\n",
    "```\n",
    "\n",
    "\n"
   ]
  },
  {
   "cell_type": "code",
   "execution_count": 5,
   "metadata": {
    "collapsed": true,
    "deletable": true,
    "editable": true
   },
   "outputs": [],
   "source": [
    "#HDFS\n",
    "trainfilehdfs = \"/tmp/Credit_Scoring_train.csv\"\n",
    "testfilehdfs = \"/tmp/Credit_Scoring_test.csv\"\n",
    "\n",
    "#Lokal veri\n",
    "trainfile = \"./veri/Credit_Scoring_train.csv\"\n",
    "testfile = \"./veri/Credit_Scoring_test.csv\"\n",
    "\n",
    "train_df = spark.read.csv(trainfile,header='true',sep=\";\")\n",
    "test_df = spark.read.csv(testfile,header='true',sep=\";\")"
   ]
  },
  {
   "cell_type": "markdown",
   "metadata": {
    "deletable": true,
    "editable": true
   },
   "source": [
    "Yüklediğimiz verisetlerini inceleyelim\n"
   ]
  },
  {
   "cell_type": "code",
   "execution_count": 7,
   "metadata": {
    "collapsed": false,
    "deletable": true,
    "editable": true
   },
   "outputs": [
    {
     "name": "stdout",
     "output_type": "stream",
     "text": [
      "+------------+---------+------+----------+--------+---+---------+---------+---------+---------+---------+---------+------------------+------------------+------------------+------------------+------------------+------------------+----------------+----------------+----------------+----------------+----------------+----------------+-------+\n",
      "| CUSTOMER_ID|LIMIT_BAL|   SEX| EDUCATION|MARRIAGE|AGE|PAYMENT_1|PAYMENT_2|PAYMENT_3|PAYMENT_4|PAYMENT_5|PAYMENT_6|REMAINING_AMOUNT_1|REMAINING_AMOUNT_2|REMAINING_AMOUNT_3|REMAINING_AMOUNT_4|REMAINING_AMOUNT_5|REMAINING_AMOUNT_6|PAYMENT_AMOUNT_1|PAYMENT_AMOUNT_2|PAYMENT_AMOUNT_3|PAYMENT_AMOUNT_4|PAYMENT_AMOUNT_5|PAYMENT_AMOUNT_6|default|\n",
      "+------------+---------+------+----------+--------+---+---------+---------+---------+---------+---------+---------+------------------+------------------+------------------+------------------+------------------+------------------+----------------+----------------+----------------+----------------+----------------+----------------+-------+\n",
      "|461090387729|    10000|  Male|      null| Married| 43|       -1|        0|        0|        0|       -1|       -1|             17560|              9829|              3604|                 0|                 0|                 0|            2537|            1000|               0|               0|               0|               0|      1|\n",
      "|456333788060|    10000|Female|      null|  Single| 24|       -1|        0|        0|        0|        0|       -1|              5742|              4576|              4139|              2583|                 0|                 0|            1500|            2000|             583|               0|               0|               0|      0|\n",
      "|530658128376|    10000|Female|      null|  Single| 21|        0|        0|        0|        0|        0|       -1|              7691|              8107|              8036|              8099|                 0|                 0|            1192|            1000|             162|               0|               0|               0|      0|\n",
      "|546506894510|    10000|  Male|      null|  Single| 35|        3|        2|        0|        0|        0|       -1|             10281|              9949|              8838|              8838|                 0|                 0|              25|            4000|               0|            1000|               0|               0|      0|\n",
      "|469501329931|    10000|  Male|Gradschool|  Single| 47|        0|        0|        0|       -1|       -1|       -1|              7968|              8800|                 0|              2640|               695|               738|            1000|               0|            2640|             695|             738|               0|      0|\n",
      "+------------+---------+------+----------+--------+---+---------+---------+---------+---------+---------+---------+------------------+------------------+------------------+------------------+------------------+------------------+----------------+----------------+----------------+----------------+----------------+----------------+-------+\n",
      "only showing top 5 rows\n",
      "\n"
     ]
    }
   ],
   "source": [
    "train_df.show(5)"
   ]
  },
  {
   "cell_type": "code",
   "execution_count": 8,
   "metadata": {
    "collapsed": false,
    "deletable": true,
    "editable": true
   },
   "outputs": [
    {
     "name": "stdout",
     "output_type": "stream",
     "text": [
      "+------------+---------+------+----------+--------+---+---------+---------+---------+---------+---------+---------+------------------+------------------+------------------+------------------+------------------+------------------+----------------+----------------+----------------+----------------+----------------+----------------+-------+\n",
      "| CUSTOMER_ID|LIMIT_BAL|   SEX| EDUCATION|MARRIAGE|AGE|PAYMENT_1|PAYMENT_2|PAYMENT_3|PAYMENT_4|PAYMENT_5|PAYMENT_6|REMAINING_AMOUNT_1|REMAINING_AMOUNT_2|REMAINING_AMOUNT_3|REMAINING_AMOUNT_4|REMAINING_AMOUNT_5|REMAINING_AMOUNT_6|PAYMENT_AMOUNT_1|PAYMENT_AMOUNT_2|PAYMENT_AMOUNT_3|PAYMENT_AMOUNT_4|PAYMENT_AMOUNT_5|PAYMENT_AMOUNT_6|default|\n",
      "+------------+---------+------+----------+--------+---+---------+---------+---------+---------+---------+---------+------------------+------------------+------------------+------------------+------------------+------------------+----------------+----------------+----------------+----------------+----------------+----------------+-------+\n",
      "|486125775787|    10000|  Male|      null|  Single| 44|        0|        0|        0|        0|        0|        0|              8958|              8774|              9461|              9457|              9650|              7500|            1147|            1224|            1000|             193|             150|               0|      0|\n",
      "|514336706631|    10000|Female|Gradschool| Married| 37|        0|        0|        0|        0|        0|        0|              7600|              8473|              8793|              9106|              7792|              7500|            3000|            3000|            3014|            3000|            3000|            7589|      0|\n",
      "|540514247155|    10000|Female|Gradschool| Married| 23|        0|        0|        0|        0|        0|        0|              7641|              8557|              9080|              1410|              9508|              8997|            1262|            1000|            1115|            9329|             331|            1000|      0|\n",
      "|483994200002|    10000|  Male|Gradschool| Married| 42|        4|        3|        2|        2|        2|        0|              6744|              6494|              6247|              7975|              7701|              7787|               0|               0|            2000|               0|             359|             331|      0|\n",
      "|456966453021|    10000|Female|Gradschool|  Single| 27|       -1|       -1|       -1|       -1|       -1|       -1|               499|                 0|                 0|                 0|                 0|                 0|               0|               0|               0|               0|               0|               0|      1|\n",
      "+------------+---------+------+----------+--------+---+---------+---------+---------+---------+---------+---------+------------------+------------------+------------------+------------------+------------------+------------------+----------------+----------------+----------------+----------------+----------------+----------------+-------+\n",
      "only showing top 5 rows\n",
      "\n"
     ]
    }
   ],
   "source": [
    "test_df.show(5)"
   ]
  },
  {
   "cell_type": "code",
   "execution_count": 9,
   "metadata": {
    "collapsed": false,
    "deletable": true,
    "editable": true
   },
   "outputs": [
    {
     "data": {
      "text/plain": [
       "['CUSTOMER_ID', 'LIMIT_BAL', 'SEX', 'EDUCATION', 'MARRIAGE', 'AGE', 'PAYMENT_1', 'PAYMENT_2', 'PAYMENT_3', 'PAYMENT_4', 'PAYMENT_5', 'PAYMENT_6', 'REMAINING_AMOUNT_1', 'REMAINING_AMOUNT_2', 'REMAINING_AMOUNT_3', 'REMAINING_AMOUNT_4', 'REMAINING_AMOUNT_5', 'REMAINING_AMOUNT_6', 'PAYMENT_AMOUNT_1', 'PAYMENT_AMOUNT_2', 'PAYMENT_AMOUNT_3', 'PAYMENT_AMOUNT_4', 'PAYMENT_AMOUNT_5', 'PAYMENT_AMOUNT_6', 'default']"
      ]
     },
     "execution_count": 9,
     "metadata": {},
     "output_type": "execute_result"
    }
   ],
   "source": [
    "features = train_df.columns\n",
    "features"
   ]
  },
  {
   "cell_type": "code",
   "execution_count": 10,
   "metadata": {
    "collapsed": false,
    "deletable": true,
    "editable": true
   },
   "outputs": [
    {
     "name": "stdout",
     "output_type": "stream",
     "text": [
      "(19800, 10200)\n"
     ]
    }
   ],
   "source": [
    "print(train_df.count(), test_df.count())"
   ]
  },
  {
   "cell_type": "markdown",
   "metadata": {
    "deletable": true,
    "editable": true
   },
   "source": [
    "## Veri Sözlüğü\n",
    "\n",
    "Veride aşağıdaki kolonlar yer almaktadır:\n",
    "\n",
    "* CUSTOMER_ID: Müşteriye özel ID.\n",
    "* LIMIT_BAL: Kredi limiti.\n",
    "* SEX: Cinsiyet (Male, Female). \n",
    "* EDUCATION: Eğitim (Gradschool, University, Highschool). \n",
    "* MARRIAGE: Medeni durum (Married, Single). \n",
    "* AGE: Yaş (year). \n",
    "* PAYMENT_1 - PAYMENT_6: Ay bazında geçmiş ödemelerdeki gecikme (1 - Eylül 2005, 6 - Nisan 2005 olacak şekilde).\n",
    "* REMAINING_AMOUNT_1 - REMAINING_AMOUNT_6: Kalan borç miktarı (1 - Eylül 2005, 6 - Nisan 2005 olacak şekilde).\n",
    "* PAYMENT_AMOUNT_1 - PAYMENT_AMOUNT_6: Önceki ödemeler (1 - Eylül 2005, 6 - Nisan 2005 olacak şekilde).\n",
    "* default: Çıktı değeri, borcun zamanında ödenip ödenmediği (0 = Zamanında, 1 = Geç)\n",
    "\n",
    "\n",
    "Önce sayısal kolonlara bakarak eksik değer olup olmadığına bakalım."
   ]
  },
  {
   "cell_type": "markdown",
   "metadata": {
    "deletable": true,
    "editable": true
   },
   "source": [
    "## Veri Tiplerinin düzenlenmesi / dönüştürülmesi\n",
    "\n",
    "Sayısal olan verilerin eğer değilse uygun tiplere dönüştürülmesi gereklidir.\n",
    "Aşağıda rasyonel sayılar, csv vb dosyalarda  karakter dizini olarak yazıldıklarında, okunduktan sonra da karakter dizininden rasyonel sayılara dönüştürülmeleri gerekir.\n",
    "Bazı okuyuculara hangi kolonların dönüştürülmeis gerektiği belirtildiğinde, otomatk dönüşüm yapar. bu örnekte kendimiz dönüşüm yapacağız."
   ]
  },
  {
   "cell_type": "code",
   "execution_count": 11,
   "metadata": {
    "collapsed": false,
    "deletable": true,
    "editable": true
   },
   "outputs": [
    {
     "data": {
      "text/plain": [
       "StructType(List(StructField(CUSTOMER_ID,StringType,true),StructField(LIMIT_BAL,StringType,true),StructField(SEX,StringType,true),StructField(EDUCATION,StringType,true),StructField(MARRIAGE,StringType,true),StructField(AGE,StringType,true),StructField(PAYMENT_1,StringType,true),StructField(PAYMENT_2,StringType,true),StructField(PAYMENT_3,StringType,true),StructField(PAYMENT_4,StringType,true),StructField(PAYMENT_5,StringType,true),StructField(PAYMENT_6,StringType,true),StructField(REMAINING_AMOUNT_1,StringType,true),StructField(REMAINING_AMOUNT_2,StringType,true),StructField(REMAINING_AMOUNT_3,StringType,true),StructField(REMAINING_AMOUNT_4,StringType,true),StructField(REMAINING_AMOUNT_5,StringType,true),StructField(REMAINING_AMOUNT_6,StringType,true),StructField(PAYMENT_AMOUNT_1,StringType,true),StructField(PAYMENT_AMOUNT_2,StringType,true),StructField(PAYMENT_AMOUNT_3,StringType,true),StructField(PAYMENT_AMOUNT_4,StringType,true),StructField(PAYMENT_AMOUNT_5,StringType,true),StructField(PAYMENT_AMOUNT_6,StringType,true),StructField(default,StringType,true)))"
      ]
     },
     "execution_count": 11,
     "metadata": {},
     "output_type": "execute_result"
    }
   ],
   "source": [
    "train_df.schema"
   ]
  },
  {
   "cell_type": "code",
   "execution_count": 12,
   "metadata": {
    "collapsed": true,
    "deletable": true,
    "editable": true
   },
   "outputs": [],
   "source": [
    "from pyspark.sql.functions import udf\n",
    "from pyspark.sql.functions import col , column\n",
    "from pyspark.sql.types import DoubleType\n",
    "from pyspark.sql.types import FloatType\n",
    "from pyspark.sql.types import StringType\n",
    "from pyspark.sql.types import IntegerType \n",
    "\n",
    "toIntegerfunc = udf( lambda x: int(x) if x else int(0), IntegerType())\n",
    "toFloatfunc = udf( lambda x: float(x) if x else float(0), FloatType())\n",
    "toStringfunc = udf( lambda x: x if x else \"other\", StringType())\n",
    "\n",
    "\n",
    "train_df = train_df.withColumn(\"LIMIT_BAL\",toFloatfunc(train_df['LIMIT_BAL']))\n",
    "train_df = train_df.withColumn(\"AGE\",toIntegerfunc(train_df['AGE']))\n",
    "\n",
    "train_df = train_df.withColumn(\"PAYMENT_1\",toFloatfunc(train_df['PAYMENT_1']))\n",
    "train_df = train_df.withColumn(\"PAYMENT_2\",toFloatfunc(train_df['PAYMENT_2']))\n",
    "train_df = train_df.withColumn(\"PAYMENT_3\",toFloatfunc(train_df['PAYMENT_3']))\n",
    "train_df = train_df.withColumn(\"PAYMENT_4\",toFloatfunc(train_df['PAYMENT_4']))\n",
    "train_df = train_df.withColumn(\"PAYMENT_5\",toFloatfunc(train_df['PAYMENT_5']))\n",
    "train_df = train_df.withColumn(\"PAYMENT_6\",toFloatfunc(train_df['PAYMENT_6']))\n",
    "\n",
    "train_df = train_df.withColumn(\"REMAINING_AMOUNT_1\",toFloatfunc(train_df['REMAINING_AMOUNT_1']))\n",
    "train_df = train_df.withColumn(\"REMAINING_AMOUNT_2\",toFloatfunc(train_df['REMAINING_AMOUNT_2']))\n",
    "train_df = train_df.withColumn(\"REMAINING_AMOUNT_3\",toFloatfunc(train_df['REMAINING_AMOUNT_3']))\n",
    "train_df = train_df.withColumn(\"REMAINING_AMOUNT_4\",toFloatfunc(train_df['REMAINING_AMOUNT_4']))\n",
    "train_df = train_df.withColumn(\"REMAINING_AMOUNT_5\",toFloatfunc(train_df['REMAINING_AMOUNT_5']))\n",
    "train_df = train_df.withColumn(\"REMAINING_AMOUNT_6\",toFloatfunc(train_df['REMAINING_AMOUNT_6']))\n",
    "\n",
    "train_df = train_df.withColumn(\"PAYMENT_AMOUNT_1\",toFloatfunc(train_df['PAYMENT_AMOUNT_1']))\n",
    "train_df = train_df.withColumn(\"PAYMENT_AMOUNT_2\",toFloatfunc(train_df['PAYMENT_AMOUNT_2']))\n",
    "train_df = train_df.withColumn(\"PAYMENT_AMOUNT_3\",toFloatfunc(train_df['PAYMENT_AMOUNT_3']))\n",
    "train_df = train_df.withColumn(\"PAYMENT_AMOUNT_4\",toFloatfunc(train_df['PAYMENT_AMOUNT_4']))\n",
    "train_df = train_df.withColumn(\"PAYMENT_AMOUNT_5\",toFloatfunc(train_df['PAYMENT_AMOUNT_5']))\n",
    "train_df = train_df.withColumn(\"PAYMENT_AMOUNT_6\",toFloatfunc(train_df['PAYMENT_AMOUNT_6']))\n",
    "\n",
    "train_df = train_df.withColumn(\"default\",toIntegerfunc(train_df['default']))\n"
   ]
  },
  {
   "cell_type": "code",
   "execution_count": 13,
   "metadata": {
    "collapsed": false,
    "deletable": true,
    "editable": true
   },
   "outputs": [
    {
     "data": {
      "text/plain": [
       "StructType(List(StructField(CUSTOMER_ID,StringType,true),StructField(LIMIT_BAL,FloatType,true),StructField(SEX,StringType,true),StructField(EDUCATION,StringType,true),StructField(MARRIAGE,StringType,true),StructField(AGE,IntegerType,true),StructField(PAYMENT_1,FloatType,true),StructField(PAYMENT_2,FloatType,true),StructField(PAYMENT_3,FloatType,true),StructField(PAYMENT_4,FloatType,true),StructField(PAYMENT_5,FloatType,true),StructField(PAYMENT_6,FloatType,true),StructField(REMAINING_AMOUNT_1,FloatType,true),StructField(REMAINING_AMOUNT_2,FloatType,true),StructField(REMAINING_AMOUNT_3,FloatType,true),StructField(REMAINING_AMOUNT_4,FloatType,true),StructField(REMAINING_AMOUNT_5,FloatType,true),StructField(REMAINING_AMOUNT_6,FloatType,true),StructField(PAYMENT_AMOUNT_1,FloatType,true),StructField(PAYMENT_AMOUNT_2,FloatType,true),StructField(PAYMENT_AMOUNT_3,FloatType,true),StructField(PAYMENT_AMOUNT_4,FloatType,true),StructField(PAYMENT_AMOUNT_5,FloatType,true),StructField(PAYMENT_AMOUNT_6,FloatType,true),StructField(default,IntegerType,true)))"
      ]
     },
     "execution_count": 13,
     "metadata": {},
     "output_type": "execute_result"
    }
   ],
   "source": [
    "train_df.schema"
   ]
  },
  {
   "cell_type": "code",
   "execution_count": 14,
   "metadata": {
    "collapsed": false,
    "deletable": true,
    "editable": true
   },
   "outputs": [
    {
     "name": "stdout",
     "output_type": "stream",
     "text": [
      "+-------+--------------------+------------------+------+----------+--------+------------------+-------------------+--------------------+--------------------+--------------------+--------------------+--------------------+------------------+------------------+------------------+------------------+------------------+------------------+------------------+------------------+------------------+------------------+------------------+------------------+-------------------+\n",
      "|summary|         CUSTOMER_ID|         LIMIT_BAL|   SEX| EDUCATION|MARRIAGE|               AGE|          PAYMENT_1|           PAYMENT_2|           PAYMENT_3|           PAYMENT_4|           PAYMENT_5|           PAYMENT_6|REMAINING_AMOUNT_1|REMAINING_AMOUNT_2|REMAINING_AMOUNT_3|REMAINING_AMOUNT_4|REMAINING_AMOUNT_5|REMAINING_AMOUNT_6|  PAYMENT_AMOUNT_1|  PAYMENT_AMOUNT_2|  PAYMENT_AMOUNT_3|  PAYMENT_AMOUNT_4|  PAYMENT_AMOUNT_5|  PAYMENT_AMOUNT_6|            default|\n",
      "+-------+--------------------+------------------+------+----------+--------+------------------+-------------------+--------------------+--------------------+--------------------+--------------------+--------------------+------------------+------------------+------------------+------------------+------------------+------------------+------------------+------------------+------------------+------------------+------------------+------------------+-------------------+\n",
      "|  count|               19800|             19800| 19800|     19520|   19558|             19800|              19800|               19800|               19800|               19800|               19800|               19800|             19800|             19800|             19800|             19800|             19800|             19800|             19800|             19800|             19800|             19800|             19800|             19800|              19800|\n",
      "|   mean|5.046310258386748E11| 167938.7717171717|  null|      null|    null|35.505959595959595|0.07464646464646464|-0.01237373737373...|-0.03474747474747475|-0.07838383838383839|-0.11318181818181818|-0.12833333333333333| 51265.96813131313| 49428.55823232323|  47197.1903030303| 43617.47111111111| 40696.43348484849|  39142.8997979798|  5674.35101010101| 5914.844292929293| 5300.064646464646| 4849.301414141414| 4766.921313131314| 5259.505101010101|0.21904040404040404|\n",
      "| stddev|3.173886967168375...|129545.90887361384|  null|      null|    null| 9.281760782566714| 0.9863371016480158|  1.0299315754803282|   1.020871481438241|  0.9828148146977187|   0.940187051482343|   0.946332648752568| 73465.13784487464| 71323.10512233786| 69425.73609526413| 64693.95917192512| 61500.58081796579| 60140.54539011229|16069.451497911581|22492.964796039516|17327.253009874017|15489.765788180699|14775.652597088632|18047.774868475917| 0.4136065102904602|\n",
      "|    min|         4,50003E+11|               0.0|Female|Gradschool| Married|                 0|               -1.0|                -1.0|                -1.0|                -1.0|                -1.0|                -1.0|         -165580.0|          -33350.0|         -157264.0|         -170000.0|          -81334.0|         -339603.0|               0.0|               0.0|               0.0|               0.0|               0.0|               0.0|                  0|\n",
      "|    max|        559999609333|         1000000.0|  Male|University|  Single|                79|                8.0|                 7.0|                 8.0|                 7.0|                 7.0|                 7.0|          964511.0|          983931.0|         1664089.0|          891586.0|          927171.0|          961664.0|          505000.0|         1684259.0|          896040.0|          528897.0|          426529.0|          528666.0|                  1|\n",
      "+-------+--------------------+------------------+------+----------+--------+------------------+-------------------+--------------------+--------------------+--------------------+--------------------+--------------------+------------------+------------------+------------------+------------------+------------------+------------------+------------------+------------------+------------------+------------------+------------------+------------------+-------------------+\n",
      "\n"
     ]
    }
   ],
   "source": [
    "train_df.describe().show()"
   ]
  },
  {
   "cell_type": "code",
   "execution_count": 15,
   "metadata": {
    "collapsed": false,
    "deletable": true,
    "editable": true
   },
   "outputs": [
    {
     "name": "stdout",
     "output_type": "stream",
     "text": [
      "+-------+------------------+\n",
      "|summary|         LIMIT_BAL|\n",
      "+-------+------------------+\n",
      "|  count|             19800|\n",
      "|   mean| 167938.7717171717|\n",
      "| stddev|129545.90887361384|\n",
      "|    min|               0.0|\n",
      "|    max|         1000000.0|\n",
      "+-------+------------------+\n",
      "\n",
      "+-------+------------------+\n",
      "|summary|               AGE|\n",
      "+-------+------------------+\n",
      "|  count|             19800|\n",
      "|   mean|35.505959595959595|\n",
      "| stddev| 9.281760782566714|\n",
      "|    min|                 0|\n",
      "|    max|                79|\n",
      "+-------+------------------+\n",
      "\n"
     ]
    }
   ],
   "source": [
    "train_df.describe(['LIMIT_BAL']).show()\n",
    "train_df.describe(['AGE']).show()"
   ]
  },
  {
   "cell_type": "code",
   "execution_count": 16,
   "metadata": {
    "collapsed": false,
    "deletable": true,
    "editable": true
   },
   "outputs": [
    {
     "name": "stdout",
     "output_type": "stream",
     "text": [
      "+-------+------------------+------------------+------------------+------------------+------------------+------------------+\n",
      "|summary|REMAINING_AMOUNT_1|REMAINING_AMOUNT_2|REMAINING_AMOUNT_3|REMAINING_AMOUNT_4|REMAINING_AMOUNT_5|REMAINING_AMOUNT_6|\n",
      "+-------+------------------+------------------+------------------+------------------+------------------+------------------+\n",
      "|  count|             19800|             19800|             19800|             19800|             19800|             19800|\n",
      "|   mean| 51265.96813131313| 49428.55823232323|  47197.1903030303| 43617.47111111111| 40696.43348484849|  39142.8997979798|\n",
      "| stddev| 73465.13784487464| 71323.10512233786| 69425.73609526413| 64693.95917192512| 61500.58081796579| 60140.54539011229|\n",
      "|    min|         -165580.0|          -33350.0|         -157264.0|         -170000.0|          -81334.0|         -339603.0|\n",
      "|    max|          964511.0|          983931.0|         1664089.0|          891586.0|          927171.0|          961664.0|\n",
      "+-------+------------------+------------------+------------------+------------------+------------------+------------------+\n",
      "\n"
     ]
    }
   ],
   "source": [
    "train_df.describe([i for i in train_df.columns if 'REMAINING_AMOUNT' in i]).show()"
   ]
  },
  {
   "cell_type": "code",
   "execution_count": 17,
   "metadata": {
    "collapsed": false,
    "deletable": true,
    "editable": true
   },
   "outputs": [
    {
     "name": "stdout",
     "output_type": "stream",
     "text": [
      "+-------+-------------------+--------------------+--------------------+--------------------+--------------------+--------------------+------------------+------------------+------------------+------------------+------------------+------------------+\n",
      "|summary|          PAYMENT_1|           PAYMENT_2|           PAYMENT_3|           PAYMENT_4|           PAYMENT_5|           PAYMENT_6|  PAYMENT_AMOUNT_1|  PAYMENT_AMOUNT_2|  PAYMENT_AMOUNT_3|  PAYMENT_AMOUNT_4|  PAYMENT_AMOUNT_5|  PAYMENT_AMOUNT_6|\n",
      "+-------+-------------------+--------------------+--------------------+--------------------+--------------------+--------------------+------------------+------------------+------------------+------------------+------------------+------------------+\n",
      "|  count|              19800|               19800|               19800|               19800|               19800|               19800|             19800|             19800|             19800|             19800|             19800|             19800|\n",
      "|   mean|0.07464646464646464|-0.01237373737373...|-0.03474747474747475|-0.07838383838383839|-0.11318181818181818|-0.12833333333333333|  5674.35101010101| 5914.844292929293| 5300.064646464646| 4849.301414141414| 4766.921313131314| 5259.505101010101|\n",
      "| stddev| 0.9863371016480158|  1.0299315754803282|   1.020871481438241|  0.9828148146977187|   0.940187051482343|   0.946332648752568|16069.451497911581|22492.964796039516|17327.253009874017|15489.765788180699|14775.652597088632|18047.774868475917|\n",
      "|    min|               -1.0|                -1.0|                -1.0|                -1.0|                -1.0|                -1.0|               0.0|               0.0|               0.0|               0.0|               0.0|               0.0|\n",
      "|    max|                8.0|                 7.0|                 8.0|                 7.0|                 7.0|                 7.0|          505000.0|         1684259.0|          896040.0|          528897.0|          426529.0|          528666.0|\n",
      "+-------+-------------------+--------------------+--------------------+--------------------+--------------------+--------------------+------------------+------------------+------------------+------------------+------------------+------------------+\n",
      "\n"
     ]
    }
   ],
   "source": [
    "train_df.describe([i for i in train_df.columns if 'PAYMENT' in i]).show()"
   ]
  },
  {
   "cell_type": "code",
   "execution_count": 18,
   "metadata": {
    "collapsed": true,
    "deletable": true,
    "editable": true
   },
   "outputs": [],
   "source": [
    "train_df.createOrReplaceTempView(\"traindatatable\")"
   ]
  },
  {
   "cell_type": "code",
   "execution_count": 65,
   "metadata": {
    "collapsed": false,
    "deletable": true,
    "editable": true
   },
   "outputs": [],
   "source": [
    "qdf = spark.sql(\"select LIMIT_BAL,count(*) as cnt  from traindatatable group by LIMIT_BAL order by LIMIT_BAL\")\n",
    "#qdf = spark.sql(\"select LIMIT_BAL,count(*) as cnt  from traindatatable group by LIMIT_BAL\")"
   ]
  },
  {
   "cell_type": "code",
   "execution_count": 54,
   "metadata": {
    "collapsed": false,
    "deletable": true,
    "editable": true
   },
   "outputs": [
    {
     "name": "stdout",
     "output_type": "stream",
     "text": [
      "+---------+----+\n",
      "|LIMIT_BAL| cnt|\n",
      "+---------+----+\n",
      "|      0.0|   3|\n",
      "|  10000.0| 315|\n",
      "|  20000.0|1327|\n",
      "|  30000.0|1058|\n",
      "|  40000.0| 138|\n",
      "|  50000.0|2176|\n",
      "|  60000.0| 546|\n",
      "|  70000.0| 484|\n",
      "|  80000.0|1009|\n",
      "|  90000.0| 441|\n",
      "| 100000.0| 704|\n",
      "| 110000.0| 382|\n",
      "| 120000.0| 485|\n",
      "| 130000.0| 500|\n",
      "| 140000.0| 486|\n",
      "| 150000.0| 720|\n",
      "| 160000.0| 451|\n",
      "| 170000.0| 374|\n",
      "| 180000.0| 669|\n",
      "| 190000.0| 151|\n",
      "+---------+----+\n",
      "only showing top 20 rows\n",
      "\n"
     ]
    }
   ],
   "source": [
    "qdf.show()"
   ]
  },
  {
   "cell_type": "code",
   "execution_count": 55,
   "metadata": {
    "collapsed": false,
    "deletable": true,
    "editable": true
   },
   "outputs": [
    {
     "data": {
      "text/plain": [
       "   LIMIT_BAL   cnt\n",
       "0        0.0     3\n",
       "1    10000.0   315\n",
       "2    20000.0  1327\n",
       "3    30000.0  1058\n",
       "4    40000.0   138"
      ]
     },
     "execution_count": 55,
     "metadata": {},
     "output_type": "execute_result"
    }
   ],
   "source": [
    "import pandas as pd\n",
    "import numpy as np\n",
    "import matplotlib.pyplot as plt\n",
    "\n",
    "pdf = qdf.toPandas()\n",
    "pdf.head()"
   ]
  },
  {
   "cell_type": "code",
   "execution_count": 57,
   "metadata": {
    "collapsed": false,
    "deletable": true,
    "editable": true
   },
   "outputs": [],
   "source": [
    "#%matplotlib inline\n",
    "#q1 = pdf.set_index('cnt')\n",
    "pdf.plot.bar()\n",
    "plt.show()"
   ]
  },
  {
   "cell_type": "code",
   "execution_count": 62,
   "metadata": {
    "collapsed": false,
    "deletable": true,
    "editable": true
   },
   "outputs": [],
   "source": [
    "pdf.plot.scatter(x='LIMIT_BAL', y='cnt', s=4);\n",
    "plt.show()"
   ]
  },
  {
   "cell_type": "code",
   "execution_count": 66,
   "metadata": {
    "collapsed": true,
    "deletable": true,
    "editable": true
   },
   "outputs": [],
   "source": [
    "qdf = spark.sql(\"select AGE,count(*) from traindatatable group by AGE\")"
   ]
  },
  {
   "cell_type": "code",
   "execution_count": 70,
   "metadata": {
    "collapsed": false,
    "deletable": true,
    "editable": true
   },
   "outputs": [],
   "source": [
    "pdf = qdf.toPandas()\n",
    "pdf.plot.scatter(x='AGE',y='count(1)',s=5)\n",
    "plt.show()"
   ]
  },
  {
   "cell_type": "code",
   "execution_count": 72,
   "metadata": {
    "collapsed": false,
    "deletable": true,
    "editable": true
   },
   "outputs": [],
   "source": [
    "qdf  = spark.sql(\"select AGE,EDUCATION,count(*)   from traindatatable group by AGE, EDUCATION\")"
   ]
  },
  {
   "cell_type": "code",
   "execution_count": 73,
   "metadata": {
    "collapsed": true,
    "deletable": true,
    "editable": true
   },
   "outputs": [],
   "source": [
    "qdf = spark.sql(\"select AGE,EDUCATION,MARRIAGE, count(*)  from traindatatable where default=1 group by AGE, EDUCATION,MARRIAGE\")"
   ]
  },
  {
   "cell_type": "code",
   "execution_count": 74,
   "metadata": {
    "collapsed": true,
    "deletable": true,
    "editable": true
   },
   "outputs": [],
   "source": [
    "qdf = spark.sql(\"select AGE,EDUCATION,MARRIAGE, count(*)  from traindatatable where default=1 group by AGE, EDUCATION,MARRIAGE\")"
   ]
  },
  {
   "cell_type": "markdown",
   "metadata": {
    "deletable": true,
    "editable": true
   },
   "source": [
    "## Veri Temizleme / Dönüştürme\n",
    "Veriyi incelerken fark edilen durumları düzeltmek için bazı işlemler yapacağız."
   ]
  },
  {
   "cell_type": "code",
   "execution_count": 75,
   "metadata": {
    "collapsed": false,
    "deletable": true,
    "editable": true
   },
   "outputs": [
    {
     "name": "stdout",
     "output_type": "stream",
     "text": [
      "+-------+------------------+\n",
      "|summary|         LIMIT_BAL|\n",
      "+-------+------------------+\n",
      "|  count|             19797|\n",
      "|   mean|167964.22084154165|\n",
      "| stddev|129539.22575911172|\n",
      "|    min|           10000.0|\n",
      "|    max|         1000000.0|\n",
      "+-------+------------------+\n",
      "\n"
     ]
    }
   ],
   "source": [
    "train_df = train_df.filter(train_df['LIMIT_BAL']>0)\n",
    "train_df.describe(['LIMIT_BAL']).show()"
   ]
  },
  {
   "cell_type": "code",
   "execution_count": 76,
   "metadata": {
    "collapsed": false,
    "deletable": true,
    "editable": true
   },
   "outputs": [
    {
     "name": "stdout",
     "output_type": "stream",
     "text": [
      "{'AGE': 34.0}\n"
     ]
    }
   ],
   "source": [
    "#AGE kolonunu median değeriyle dolduruyoruz. Missing değer ve strategy (nasıl dolduracağımız) bilgisini verelim.\n",
    "\n",
    "median_dict = dict()\n",
    "median_dict['AGE'] = train_df.stat.approxQuantile('AGE', [0.5], 0.001)[0]\n",
    "print(median_dict)\n",
    "train_df = train_df.na.fill(median_dict)"
   ]
  },
  {
   "cell_type": "code",
   "execution_count": 77,
   "metadata": {
    "collapsed": false,
    "deletable": true,
    "editable": true
   },
   "outputs": [
    {
     "name": "stdout",
     "output_type": "stream",
     "text": [
      "+-------+------+\n",
      "|summary|   SEX|\n",
      "+-------+------+\n",
      "|  count| 19797|\n",
      "|   mean|  null|\n",
      "| stddev|  null|\n",
      "|    min|Female|\n",
      "|    max|  Male|\n",
      "+-------+------+\n",
      "\n",
      "+-------+----------+\n",
      "|summary| EDUCATION|\n",
      "+-------+----------+\n",
      "|  count|     19517|\n",
      "|   mean|      null|\n",
      "| stddev|      null|\n",
      "|    min|Gradschool|\n",
      "|    max|University|\n",
      "+-------+----------+\n",
      "\n",
      "+-------+--------+\n",
      "|summary|MARRIAGE|\n",
      "+-------+--------+\n",
      "|  count|   19555|\n",
      "|   mean|    null|\n",
      "| stddev|    null|\n",
      "|    min| Married|\n",
      "|    max|  Single|\n",
      "+-------+--------+\n",
      "\n"
     ]
    }
   ],
   "source": [
    "#  null(olmayan)  değerlerler var mı ?\n",
    "train_df.describe(['SEX']).show()\n",
    "train_df.describe(['EDUCATION']).show()\n",
    "train_df.describe(['MARRIAGE']).show()"
   ]
  },
  {
   "cell_type": "code",
   "execution_count": 78,
   "metadata": {
    "collapsed": true,
    "deletable": true,
    "editable": true
   },
   "outputs": [],
   "source": [
    "# null değerler için yeni bir değer yazalım\n",
    "na_dict = dict()\n",
    "na_dict['EDUCATION'] = 'MISSING_EDU'\n",
    "na_dict['MARRIAGE'] = 'MISSING_MAR'\n",
    "\n",
    "train_df = train_df.fillna(na_dict)\n"
   ]
  },
  {
   "cell_type": "code",
   "execution_count": 79,
   "metadata": {
    "collapsed": false,
    "deletable": true,
    "editable": true
   },
   "outputs": [
    {
     "name": "stdout",
     "output_type": "stream",
     "text": [
      "+-------+------+\n",
      "|summary|   SEX|\n",
      "+-------+------+\n",
      "|  count| 19797|\n",
      "|   mean|  null|\n",
      "| stddev|  null|\n",
      "|    min|Female|\n",
      "|    max|  Male|\n",
      "+-------+------+\n",
      "\n",
      "+-------+----------+\n",
      "|summary| EDUCATION|\n",
      "+-------+----------+\n",
      "|  count|     19797|\n",
      "|   mean|      null|\n",
      "| stddev|      null|\n",
      "|    min|Gradschool|\n",
      "|    max|University|\n",
      "+-------+----------+\n",
      "\n",
      "+-------+-----------+\n",
      "|summary|   MARRIAGE|\n",
      "+-------+-----------+\n",
      "|  count|      19797|\n",
      "|   mean|       null|\n",
      "| stddev|       null|\n",
      "|    min|MISSING_MAR|\n",
      "|    max|     Single|\n",
      "+-------+-----------+\n",
      "\n"
     ]
    }
   ],
   "source": [
    "train_df.describe(['SEX']).show()\n",
    "train_df.describe(['EDUCATION']).show()\n",
    "train_df.describe(['MARRIAGE']).show()"
   ]
  },
  {
   "cell_type": "code",
   "execution_count": 80,
   "metadata": {
    "collapsed": false,
    "deletable": true,
    "editable": true
   },
   "outputs": [
    {
     "name": "stdout",
     "output_type": "stream",
     "text": [
      "+------------+---------+------+-----------+--------+---+---------+---------+---------+---------+---------+---------+------------------+------------------+------------------+------------------+------------------+------------------+----------------+----------------+----------------+----------------+----------------+----------------+-------+\n",
      "| CUSTOMER_ID|LIMIT_BAL|   SEX|  EDUCATION|MARRIAGE|AGE|PAYMENT_1|PAYMENT_2|PAYMENT_3|PAYMENT_4|PAYMENT_5|PAYMENT_6|REMAINING_AMOUNT_1|REMAINING_AMOUNT_2|REMAINING_AMOUNT_3|REMAINING_AMOUNT_4|REMAINING_AMOUNT_5|REMAINING_AMOUNT_6|PAYMENT_AMOUNT_1|PAYMENT_AMOUNT_2|PAYMENT_AMOUNT_3|PAYMENT_AMOUNT_4|PAYMENT_AMOUNT_5|PAYMENT_AMOUNT_6|default|\n",
      "+------------+---------+------+-----------+--------+---+---------+---------+---------+---------+---------+---------+------------------+------------------+------------------+------------------+------------------+------------------+----------------+----------------+----------------+----------------+----------------+----------------+-------+\n",
      "|461090387729|  10000.0|  Male|MISSING_EDU| Married| 43|     -1.0|      0.0|      0.0|      0.0|     -1.0|     -1.0|           17560.0|            9829.0|            3604.0|               0.0|               0.0|               0.0|          2537.0|          1000.0|             0.0|             0.0|             0.0|             0.0|      1|\n",
      "|456333788060|  10000.0|Female|MISSING_EDU|  Single| 24|     -1.0|      0.0|      0.0|      0.0|      0.0|     -1.0|            5742.0|            4576.0|            4139.0|            2583.0|               0.0|               0.0|          1500.0|          2000.0|           583.0|             0.0|             0.0|             0.0|      0|\n",
      "|530658128376|  10000.0|Female|MISSING_EDU|  Single| 21|      0.0|      0.0|      0.0|      0.0|      0.0|     -1.0|            7691.0|            8107.0|            8036.0|            8099.0|               0.0|               0.0|          1192.0|          1000.0|           162.0|             0.0|             0.0|             0.0|      0|\n",
      "+------------+---------+------+-----------+--------+---+---------+---------+---------+---------+---------+---------+------------------+------------------+------------------+------------------+------------------+------------------+----------------+----------------+----------------+----------------+----------------+----------------+-------+\n",
      "only showing top 3 rows\n",
      "\n"
     ]
    }
   ],
   "source": [
    "train_df.show(3)"
   ]
  },
  {
   "cell_type": "code",
   "execution_count": 81,
   "metadata": {
    "collapsed": true,
    "deletable": true,
    "editable": true
   },
   "outputs": [],
   "source": [
    "train_df.createOrReplaceTempView(\"traindatatable2\")"
   ]
  },
  {
   "cell_type": "markdown",
   "metadata": {
    "deletable": true,
    "editable": true
   },
   "source": [
    "## Veri değerlendirme (tekrar)\n"
   ]
  },
  {
   "cell_type": "code",
   "execution_count": 82,
   "metadata": {
    "collapsed": true,
    "deletable": true,
    "editable": true
   },
   "outputs": [],
   "source": [
    "qdf = spark.sql(\"select * from traindatatable2\")"
   ]
  },
  {
   "cell_type": "code",
   "execution_count": 83,
   "metadata": {
    "collapsed": true,
    "deletable": true,
    "editable": true
   },
   "outputs": [],
   "source": [
    "qdf.toPandas().plot.hist()\n",
    "plt.show()"
   ]
  },
  {
   "cell_type": "markdown",
   "metadata": {
    "deletable": true,
    "editable": true
   },
   "source": [
    "## Makine Öğrenimi ile Risk Değerlendirmesi\n",
    "Müşterilerin zamanında mı ödeme yapıp yapmayacaklarını tahmin etmeye çalışalım"
   ]
  },
  {
   "cell_type": "code",
   "execution_count": 84,
   "metadata": {
    "collapsed": false,
    "deletable": true,
    "editable": true
   },
   "outputs": [
    {
     "name": "stdout",
     "output_type": "stream",
     "text": [
      "+------+-----------+--------+---------+---+---------+---------+---------+---------+---------+---------+------------------+------------------+------------------+------------------+------------------+------------------+----------------+----------------+----------------+----------------+----------------+----------------+-----+\n",
      "|   SEX|  EDUCATION|MARRIAGE|LIMIT_BAL|AGE|PAYMENT_1|PAYMENT_2|PAYMENT_3|PAYMENT_4|PAYMENT_5|PAYMENT_6|REMAINING_AMOUNT_1|REMAINING_AMOUNT_2|REMAINING_AMOUNT_3|REMAINING_AMOUNT_4|REMAINING_AMOUNT_5|REMAINING_AMOUNT_6|PAYMENT_AMOUNT_1|PAYMENT_AMOUNT_2|PAYMENT_AMOUNT_3|PAYMENT_AMOUNT_4|PAYMENT_AMOUNT_5|PAYMENT_AMOUNT_6|label|\n",
      "+------+-----------+--------+---------+---+---------+---------+---------+---------+---------+---------+------------------+------------------+------------------+------------------+------------------+------------------+----------------+----------------+----------------+----------------+----------------+----------------+-----+\n",
      "|  Male|MISSING_EDU| Married|  10000.0| 43|     -1.0|      0.0|      0.0|      0.0|     -1.0|     -1.0|           17560.0|            9829.0|            3604.0|               0.0|               0.0|               0.0|          2537.0|          1000.0|             0.0|             0.0|             0.0|             0.0|    1|\n",
      "|Female|MISSING_EDU|  Single|  10000.0| 24|     -1.0|      0.0|      0.0|      0.0|      0.0|     -1.0|            5742.0|            4576.0|            4139.0|            2583.0|               0.0|               0.0|          1500.0|          2000.0|           583.0|             0.0|             0.0|             0.0|    0|\n",
      "|Female|MISSING_EDU|  Single|  10000.0| 21|      0.0|      0.0|      0.0|      0.0|      0.0|     -1.0|            7691.0|            8107.0|            8036.0|            8099.0|               0.0|               0.0|          1192.0|          1000.0|           162.0|             0.0|             0.0|             0.0|    0|\n",
      "|  Male|MISSING_EDU|  Single|  10000.0| 35|      3.0|      2.0|      0.0|      0.0|      0.0|     -1.0|           10281.0|            9949.0|            8838.0|            8838.0|               0.0|               0.0|            25.0|          4000.0|             0.0|          1000.0|             0.0|             0.0|    0|\n",
      "|  Male| Gradschool|  Single|  10000.0| 47|      0.0|      0.0|      0.0|     -1.0|     -1.0|     -1.0|            7968.0|            8800.0|               0.0|            2640.0|             695.0|             738.0|          1000.0|             0.0|          2640.0|           695.0|           738.0|             0.0|    0|\n",
      "+------+-----------+--------+---------+---+---------+---------+---------+---------+---------+---------+------------------+------------------+------------------+------------------+------------------+------------------+----------------+----------------+----------------+----------------+----------------+----------------+-----+\n",
      "only showing top 5 rows\n",
      "\n"
     ]
    }
   ],
   "source": [
    "# Hangi kolonlar kullanılacak\n",
    "\n",
    "categorical_columns = ['SEX', 'EDUCATION', 'MARRIAGE' ]\n",
    "numerical_columns = ['LIMIT_BAL', 'AGE', 'PAYMENT_1', 'PAYMENT_2', 'PAYMENT_3', 'PAYMENT_4', 'PAYMENT_5', 'PAYMENT_6', 'REMAINING_AMOUNT_1', 'REMAINING_AMOUNT_2', 'REMAINING_AMOUNT_3', 'REMAINING_AMOUNT_4', 'REMAINING_AMOUNT_5', 'REMAINING_AMOUNT_6', 'PAYMENT_AMOUNT_1', 'PAYMENT_AMOUNT_2', 'PAYMENT_AMOUNT_3', 'PAYMENT_AMOUNT_4', 'PAYMENT_AMOUNT_5', 'PAYMENT_AMOUNT_6']\n",
    "\n",
    "# default kolonu, ismini label olarak değiştirelim\n",
    "train_df = train_df.withColumnRenamed('default', 'label')\n",
    "\n",
    "dftrain = train_df.select(categorical_columns + numerical_columns + ['label'] )\n",
    "dftrain.show(5)"
   ]
  },
  {
   "cell_type": "markdown",
   "metadata": {
    "deletable": true,
    "editable": true
   },
   "source": [
    "\n",
    "\n",
    "Son olarak yeni öznitelikler türetelim. \n",
    "\n",
    "* Müşterilerin kredi limitleri oldukça önemli bir bilgi gibi duruyor. Büyük olasılıkla yaşlandıkça limitiniz de artacak.  'LIMIT_PER_AGE' adlı bir kolonla limiti yaşa bölerek yeni bir değişken oluşturalım. Bu sayede aynı limite sahip iki müşteriden daha genç olanını ayırdedebileceğimiz bir değişken oluşturuyoruz. Genç ve yüksek limitli bir müşteri daha cazip bir müşteri olabilir.\n",
    "* Aynı zamanda bankaya olan borcunuzla maddi durumunuzun da ilişkisini kurmak yararlı olabilir. Aynı borca sahip iki müşteriden limiti daha yüksek olan daha az riskli bir müşteri olabilir. REMAINING_AMOUNT_1 kolonunu LIMIT_BAL kolununa bölerek yeni bir değişken türetelim.\n"
   ]
  },
  {
   "cell_type": "code",
   "execution_count": 85,
   "metadata": {
    "collapsed": false,
    "deletable": true,
    "editable": true
   },
   "outputs": [
    {
     "name": "stdout",
     "output_type": "stream",
     "text": [
      "['SEX', 'EDUCATION', 'MARRIAGE']\n",
      "['LIMIT_BAL', 'AGE', 'PAYMENT_1', 'PAYMENT_2', 'PAYMENT_3', 'PAYMENT_4', 'PAYMENT_5', 'PAYMENT_6', 'REMAINING_AMOUNT_1', 'REMAINING_AMOUNT_2', 'REMAINING_AMOUNT_3', 'REMAINING_AMOUNT_4', 'REMAINING_AMOUNT_5', 'REMAINING_AMOUNT_6', 'PAYMENT_AMOUNT_1', 'PAYMENT_AMOUNT_2', 'PAYMENT_AMOUNT_3', 'PAYMENT_AMOUNT_4', 'PAYMENT_AMOUNT_5', 'PAYMENT_AMOUNT_6', 'LIMIT_PER_AGE', 'RELATIVE_REMAINING_AMOUNT']\n"
     ]
    }
   ],
   "source": [
    "MaletoBinaryfunc = udf( lambda x: int(1) if 'Male' in x else int(0) )\n",
    "FemaletoBinaryfunc = udf( lambda x: int(1) if 'Female' in x else int(0) )\n",
    "\n",
    "#Yeni değişkenler oluşturuyoruz.\n",
    "dftrain= dftrain.withColumn('LIMIT_PER_AGE', dftrain['LIMIT_BAL'] / dftrain['AGE'])\n",
    "dftrain= dftrain.withColumn('RELATIVE_REMAINING_AMOUNT',  dftrain['REMAINING_AMOUNT_1'] / dftrain['LIMIT_BAL'])\n",
    "#dftrain = dftrain.withColumn('MALE', MaletoBinaryfunc(dftrain['SEX']))\n",
    "#dftrain = dftrain.withColumn('FEMALE', FemaletoBinaryfunc(dftrain['SEX']))\n",
    "\n",
    "numerical_columns.append('LIMIT_PER_AGE')\n",
    "numerical_columns.append('RELATIVE_REMAINING_AMOUNT')\n",
    "#if 'SEX' in categorical_columns:\n",
    "#    categorical_columns.remove('SEX')\n",
    "#    categorical_columns.append('MALE')\n",
    "#    categorical_columns.append('FEMALE')\n",
    "\n",
    "print(categorical_columns)\n",
    "\n",
    "print(numerical_columns)"
   ]
  },
  {
   "cell_type": "code",
   "execution_count": 86,
   "metadata": {
    "collapsed": false,
    "deletable": true,
    "editable": true
   },
   "outputs": [
    {
     "data": {
      "text/plain": [
       "StructType(List(StructField(SEX,StringType,true),StructField(EDUCATION,StringType,false),StructField(MARRIAGE,StringType,false),StructField(LIMIT_BAL,FloatType,true),StructField(AGE,IntegerType,true),StructField(PAYMENT_1,FloatType,true),StructField(PAYMENT_2,FloatType,true),StructField(PAYMENT_3,FloatType,true),StructField(PAYMENT_4,FloatType,true),StructField(PAYMENT_5,FloatType,true),StructField(PAYMENT_6,FloatType,true),StructField(REMAINING_AMOUNT_1,FloatType,true),StructField(REMAINING_AMOUNT_2,FloatType,true),StructField(REMAINING_AMOUNT_3,FloatType,true),StructField(REMAINING_AMOUNT_4,FloatType,true),StructField(REMAINING_AMOUNT_5,FloatType,true),StructField(REMAINING_AMOUNT_6,FloatType,true),StructField(PAYMENT_AMOUNT_1,FloatType,true),StructField(PAYMENT_AMOUNT_2,FloatType,true),StructField(PAYMENT_AMOUNT_3,FloatType,true),StructField(PAYMENT_AMOUNT_4,FloatType,true),StructField(PAYMENT_AMOUNT_5,FloatType,true),StructField(PAYMENT_AMOUNT_6,FloatType,true),StructField(label,IntegerType,true),StructField(LIMIT_PER_AGE,DoubleType,true),StructField(RELATIVE_REMAINING_AMOUNT,DoubleType,true)))"
      ]
     },
     "execution_count": 86,
     "metadata": {},
     "output_type": "execute_result"
    }
   ],
   "source": [
    "dftrain.schema"
   ]
  },
  {
   "cell_type": "code",
   "execution_count": 87,
   "metadata": {
    "collapsed": false,
    "deletable": true,
    "editable": true
   },
   "outputs": [
    {
     "name": "stdout",
     "output_type": "stream",
     "text": [
      "+------+-----------+--------+---------+---+---------+---------+---------+---------+---------+---------+------------------+------------------+------------------+------------------+------------------+------------------+----------------+----------------+----------------+----------------+----------------+----------------+-----+------------------+-------------------------+\n",
      "|   SEX|  EDUCATION|MARRIAGE|LIMIT_BAL|AGE|PAYMENT_1|PAYMENT_2|PAYMENT_3|PAYMENT_4|PAYMENT_5|PAYMENT_6|REMAINING_AMOUNT_1|REMAINING_AMOUNT_2|REMAINING_AMOUNT_3|REMAINING_AMOUNT_4|REMAINING_AMOUNT_5|REMAINING_AMOUNT_6|PAYMENT_AMOUNT_1|PAYMENT_AMOUNT_2|PAYMENT_AMOUNT_3|PAYMENT_AMOUNT_4|PAYMENT_AMOUNT_5|PAYMENT_AMOUNT_6|label|     LIMIT_PER_AGE|RELATIVE_REMAINING_AMOUNT|\n",
      "+------+-----------+--------+---------+---+---------+---------+---------+---------+---------+---------+------------------+------------------+------------------+------------------+------------------+------------------+----------------+----------------+----------------+----------------+----------------+----------------+-----+------------------+-------------------------+\n",
      "|  Male|MISSING_EDU| Married|  10000.0| 43|     -1.0|      0.0|      0.0|      0.0|     -1.0|     -1.0|           17560.0|            9829.0|            3604.0|               0.0|               0.0|               0.0|          2537.0|          1000.0|             0.0|             0.0|             0.0|             0.0|    1| 232.5581395348837|                    1.756|\n",
      "|Female|MISSING_EDU|  Single|  10000.0| 24|     -1.0|      0.0|      0.0|      0.0|      0.0|     -1.0|            5742.0|            4576.0|            4139.0|            2583.0|               0.0|               0.0|          1500.0|          2000.0|           583.0|             0.0|             0.0|             0.0|    0| 416.6666666666667|                   0.5742|\n",
      "|Female|MISSING_EDU|  Single|  10000.0| 21|      0.0|      0.0|      0.0|      0.0|      0.0|     -1.0|            7691.0|            8107.0|            8036.0|            8099.0|               0.0|               0.0|          1192.0|          1000.0|           162.0|             0.0|             0.0|             0.0|    0| 476.1904761904762|                   0.7691|\n",
      "|  Male|MISSING_EDU|  Single|  10000.0| 35|      3.0|      2.0|      0.0|      0.0|      0.0|     -1.0|           10281.0|            9949.0|            8838.0|            8838.0|               0.0|               0.0|            25.0|          4000.0|             0.0|          1000.0|             0.0|             0.0|    0| 285.7142857142857|                   1.0281|\n",
      "|  Male| Gradschool|  Single|  10000.0| 47|      0.0|      0.0|      0.0|     -1.0|     -1.0|     -1.0|            7968.0|            8800.0|               0.0|            2640.0|             695.0|             738.0|          1000.0|             0.0|          2640.0|           695.0|           738.0|             0.0|    0| 212.7659574468085|                   0.7968|\n",
      "|Female| Gradschool| Married|  10000.0| 39|      1.0|     -1.0|     -1.0|      2.0|      0.0|      0.0|               0.0|               0.0|            9996.0|            9689.0|            9747.0|           10328.0|             0.0|          9996.0|             0.0|           363.0|           752.0|             0.0|    1| 256.4102564102564|                      0.0|\n",
      "|Female| Gradschool| Married|  10000.0| 27|      2.0|      0.0|      0.0|      0.0|      0.0|      2.0|            4920.0|            5937.0|            6945.0|            7088.0|            8108.0|            8264.0|          1256.0|          1264.0|           407.0|          1291.0|           435.0|             0.0|    0| 370.3703703703704|                    0.492|\n",
      "|Female| Gradschool| Married|  10000.0| 37|      0.0|      0.0|     -1.0|     -1.0|     -1.0|     -1.0|            5300.0|               0.0|               0.0|               0.0|               0.0|               0.0|             0.0|             0.0|             0.0|             0.0|             0.0|             0.0|    0|270.27027027027026|                     0.53|\n",
      "|Female| Gradschool| Married|  10000.0| 27|      0.0|     -1.0|     -1.0|      0.0|      0.0|     -1.0|            6031.0|             836.0|            2032.0|            2150.0|            1490.0|             390.0|           836.0|          2032.0|          1000.0|          1000.0|           390.0|          1632.0|    0| 370.3703703703704|                   0.6031|\n",
      "|  Male| Gradschool| Married|  10000.0| 40|      2.0|     -1.0|     -1.0|     -1.0|     -1.0|     -1.0|            3567.0|            1000.0|               0.0|               0.0|               0.0|               0.0|          5000.0|             0.0|             0.0|             0.0|             0.0|             0.0|    1|             250.0|                   0.3567|\n",
      "|  Male| Gradschool| Married|  10000.0| 38|     -1.0|     -1.0|      2.0|      0.0|      0.0|      2.0|            4711.0|            9617.0|            9307.0|            9665.0|           10470.0|           10169.0|          5000.0|             0.0|           500.0|          1100.0|             0.0|          1000.0|    1| 263.1578947368421|                   0.4711|\n",
      "|  Male| Gradschool| Married|  10000.0| 41|      0.0|      0.0|      3.0|      2.0|      2.0|      2.0|            6859.0|            9751.0|            9451.0|            9169.0|           10056.0|            8559.0|          3000.0|             0.0|             0.0|          1002.0|             0.0|           500.0|    0|243.90243902439025|                   0.6859|\n",
      "|  Male| Gradschool| Married|  10000.0| 48|      1.0|      2.0|      0.0|      0.0|      0.0|      0.0|            8594.0|            7421.0|            8145.0|            9000.0|            9000.0|               0.0|             0.0|          2000.0|          2000.0|             0.0|             0.0|             0.0|    0|208.33333333333334|                   0.8594|\n",
      "|  Male| Gradschool| Married|  10000.0| 50|      0.0|      0.0|      0.0|      0.0|      0.0|      0.0|           10043.0|            9616.0|            9718.0|            9916.0|            9250.0|            7461.0|          1194.0|          1076.0|           274.0|           370.0|           472.0|           375.0|    0|             200.0|                   1.0043|\n",
      "|Female| Gradschool|  Single|  10000.0| 23|      1.0|     -1.0|     -1.0|     -1.0|     -1.0|     -1.0|               0.0|               0.0|               0.0|               0.0|               0.0|               0.0|             0.0|             0.0|             0.0|             0.0|             0.0|             0.0|    0| 434.7826086956522|                      0.0|\n",
      "|Female| Gradschool|  Single|  10000.0| 31|      1.0|     -1.0|     -1.0|     -1.0|     -1.0|     -1.0|               0.0|               0.0|               0.0|               0.0|               0.0|               0.0|             0.0|             0.0|             0.0|             0.0|             0.0|             0.0|    0| 322.5806451612903|                      0.0|\n",
      "|Female| Gradschool|  Single|  10000.0| 29|     -1.0|     -1.0|     -1.0|     -1.0|     -1.0|     -1.0|            1727.0|            1508.0|            3096.0|            3400.0|            4522.0|            -240.0|          1508.0|          3098.0|          3400.0|          4522.0|             0.0|          1000.0|    0|344.82758620689657|                   0.1727|\n",
      "|Female| Gradschool|  Single|  10000.0| 23|      2.0|      2.0|      7.0|      7.0|      7.0|      6.0|            2400.0|            2400.0|            2400.0|            2400.0|            2400.0|            1800.0|             0.0|             0.0|             0.0|             0.0|             0.0|             0.0|    1| 434.7826086956522|                     0.24|\n",
      "|Female| Gradschool|  Single|  10000.0| 23|      3.0|      2.0|      2.0|      7.0|      7.0|      7.0|            2400.0|            2400.0|            2400.0|            2400.0|            2400.0|            2400.0|             0.0|             0.0|             0.0|             0.0|             0.0|             0.0|    1| 434.7826086956522|                     0.24|\n",
      "|Female| Gradschool|  Single|  10000.0| 27|      2.0|      0.0|      0.0|      2.0|      0.0|      0.0|            6100.0|            7274.0|            9596.0|            9289.0|            9593.0|            9795.0|          1281.0|          2603.0|             0.0|          1000.0|           500.0|           421.0|    1| 370.3703703703704|                     0.61|\n",
      "+------+-----------+--------+---------+---+---------+---------+---------+---------+---------+---------+------------------+------------------+------------------+------------------+------------------+------------------+----------------+----------------+----------------+----------------+----------------+----------------+-----+------------------+-------------------------+\n",
      "only showing top 20 rows\n",
      "\n"
     ]
    }
   ],
   "source": [
    "dftrain.show()"
   ]
  },
  {
   "cell_type": "code",
   "execution_count": 88,
   "metadata": {
    "collapsed": false,
    "deletable": true,
    "editable": true
   },
   "outputs": [
    {
     "name": "stdout",
     "output_type": "stream",
     "text": [
      "+-------+------+----------+-----------+------------------+-----------------+-------------------+--------------------+--------------------+--------------------+--------------------+--------------------+------------------+------------------+------------------+------------------+------------------+------------------+------------------+------------------+------------------+------------------+------------------+------------------+-------------------+-----------------+-------------------------+\n",
      "|summary|   SEX| EDUCATION|   MARRIAGE|         LIMIT_BAL|              AGE|          PAYMENT_1|           PAYMENT_2|           PAYMENT_3|           PAYMENT_4|           PAYMENT_5|           PAYMENT_6|REMAINING_AMOUNT_1|REMAINING_AMOUNT_2|REMAINING_AMOUNT_3|REMAINING_AMOUNT_4|REMAINING_AMOUNT_5|REMAINING_AMOUNT_6|  PAYMENT_AMOUNT_1|  PAYMENT_AMOUNT_2|  PAYMENT_AMOUNT_3|  PAYMENT_AMOUNT_4|  PAYMENT_AMOUNT_5|  PAYMENT_AMOUNT_6|              label|    LIMIT_PER_AGE|RELATIVE_REMAINING_AMOUNT|\n",
      "+-------+------+----------+-----------+------------------+-----------------+-------------------+--------------------+--------------------+--------------------+--------------------+--------------------+------------------+------------------+------------------+------------------+------------------+------------------+------------------+------------------+------------------+------------------+------------------+------------------+-------------------+-----------------+-------------------------+\n",
      "|  count| 19797|     19797|      19797|             19797|            19797|              19797|               19797|               19797|               19797|               19797|               19797|             19797|             19797|             19797|             19797|             19797|             19797|             19797|             19797|             19797|             19797|             19797|             19797|              19797|            19778|                    19797|\n",
      "|   mean|  null|      null|       null|167964.22084154165|35.50674344597666|0.07470828913471739|-0.01232509976259...|-0.03465171490629893|-0.07829469111481538|-0.11314845683689448|-0.12820124261251706| 51268.30186391877|  49430.9461534576|47199.301964944185| 43622.04136990453|40701.756023639944| 39149.24049098348| 5674.852351366369| 5915.319795928676| 5300.141688134566| 4849.484770419761| 4767.156488356822| 5260.302116482295|0.21907359700964793|4830.496752794491|      0.42327591326747294|\n",
      "| stddev|  null|      null|       null|129539.22575911172|9.282211148988397| 0.9863819777141482|  1.0299856858304621|  1.0209026975282662|  0.9828454662797094|  0.9402364745319555|  0.9463435083934506| 73468.88524019587| 71326.27162254784| 69428.73250401745| 64697.62526117549|61503.699509575825|60142.759575674245|16070.601102450124|22494.634838588456|17328.525646578702|15490.835055908778|14776.687363558589|18049.026199948286|0.41362905878434136|3699.235192744544|      0.41289395447172883|\n",
      "|    min|Female|Gradschool|MISSING_MAR|           10000.0|                0|               -1.0|                -1.0|                -1.0|                -1.0|                -1.0|                -1.0|         -165580.0|          -33350.0|         -157264.0|         -170000.0|          -81334.0|         -339603.0|               0.0|               0.0|               0.0|               0.0|               0.0|               0.0|                  0|163.9344262295082|                -0.619892|\n",
      "|    max|  Male|University|     Single|         1000000.0|               79|                8.0|                 7.0|                 8.0|                 7.0|                 7.0|                 7.0|          964511.0|          983931.0|         1664089.0|          891586.0|          927171.0|          961664.0|          505000.0|         1684259.0|          896040.0|          528897.0|          426529.0|          528666.0|                  1|          25000.0|                   6.4553|\n",
      "+-------+------+----------+-----------+------------------+-----------------+-------------------+--------------------+--------------------+--------------------+--------------------+--------------------+------------------+------------------+------------------+------------------+------------------+------------------+------------------+------------------+------------------+------------------+------------------+------------------+-------------------+-----------------+-------------------------+\n",
      "\n"
     ]
    }
   ],
   "source": [
    "dftrain.describe().show()"
   ]
  },
  {
   "cell_type": "markdown",
   "metadata": {
    "deletable": true,
    "editable": true
   },
   "source": [
    "\n",
    "### Pipeline \n",
    "Kategorik ve sayısal özelliklerin modele uygun veritiplerine dönüştürülmesi için bir pipeline oluşturulur.\n",
    "Bir pipeline (boru hattı), genellikle bir dizi **transformer** ve **estimator** aşamasından sonra bir DataFrame hazırlayan işlemlerden oluşur.\n",
    "Ardından modelleme ve ardından tahmini bir modeli eğitme işlemeleri yapılır.\n",
    "\n",
    "- **StringIndexer** kategorik özellikleri dizinlere dönüştüren bir dönüştürücü\n",
    "- **VectorAssembler** Kategorik özellikleri tek bir vektöre birleştiren bir birleştirici\n",
    "- **VectorIndexer** Bir kategorik özellik vektörü için dizinler oluşturan dönüştürücü\n",
    "- **VectorAssembler**, sürekli sayısal özellikler içeren bir vektör oluşturan birleştirici\n",
    "- **MinMaxScaler** Sürekli sayısal özellikleri normalleştiren bir dönüştürücü\n",
    "- **VectorAssembler** Kategorik ve sürekli özellikler içeren bir vektör oluşturan bir birleştirici\n",
    "- Sınıflandırma modelini eğiten bir **DecisionTreeClassifier**.\n",
    "\n",
    "### Sınıflandırma \n",
    "Önce karar ağacı ile sınıflandırma yapacağız. Bu sınıflandırmayı pipeline bir parçası olarak uygulayacağız\n",
    "\n"
   ]
  },
  {
   "cell_type": "code",
   "execution_count": 89,
   "metadata": {
    "collapsed": true,
    "deletable": true,
    "editable": true
   },
   "outputs": [],
   "source": [
    "from pyspark.sql.types import *\n",
    "from pyspark.sql.functions import *\n",
    "\n",
    "from pyspark.ml import Pipeline\n",
    "from pyspark.ml.classification import DecisionTreeClassifier\n",
    "from pyspark.ml.feature import VectorAssembler, StringIndexer, VectorIndexer, MinMaxScaler\n"
   ]
  },
  {
   "cell_type": "code",
   "execution_count": 90,
   "metadata": {
    "collapsed": false,
    "deletable": true,
    "editable": true
   },
   "outputs": [
    {
     "name": "stdout",
     "output_type": "stream",
     "text": [
      "+------+-----------+--------+---------+---+---------+---------+---------+---------+---------+---------+------------------+------------------+------------------+------------------+------------------+------------------+----------------+----------------+----------------+----------------+----------------+----------------+-----+-----------------+-------------------------+\n",
      "|   SEX|  EDUCATION|MARRIAGE|LIMIT_BAL|AGE|PAYMENT_1|PAYMENT_2|PAYMENT_3|PAYMENT_4|PAYMENT_5|PAYMENT_6|REMAINING_AMOUNT_1|REMAINING_AMOUNT_2|REMAINING_AMOUNT_3|REMAINING_AMOUNT_4|REMAINING_AMOUNT_5|REMAINING_AMOUNT_6|PAYMENT_AMOUNT_1|PAYMENT_AMOUNT_2|PAYMENT_AMOUNT_3|PAYMENT_AMOUNT_4|PAYMENT_AMOUNT_5|PAYMENT_AMOUNT_6|label|    LIMIT_PER_AGE|RELATIVE_REMAINING_AMOUNT|\n",
      "+------+-----------+--------+---------+---+---------+---------+---------+---------+---------+---------+------------------+------------------+------------------+------------------+------------------+------------------+----------------+----------------+----------------+----------------+----------------+----------------+-----+-----------------+-------------------------+\n",
      "|  Male|MISSING_EDU| Married|  10000.0| 43|     -1.0|      0.0|      0.0|      0.0|     -1.0|     -1.0|           17560.0|            9829.0|            3604.0|               0.0|               0.0|               0.0|          2537.0|          1000.0|             0.0|             0.0|             0.0|             0.0|    1|232.5581395348837|                    1.756|\n",
      "|Female|MISSING_EDU|  Single|  10000.0| 24|     -1.0|      0.0|      0.0|      0.0|      0.0|     -1.0|            5742.0|            4576.0|            4139.0|            2583.0|               0.0|               0.0|          1500.0|          2000.0|           583.0|             0.0|             0.0|             0.0|    0|416.6666666666667|                   0.5742|\n",
      "+------+-----------+--------+---------+---+---------+---------+---------+---------+---------+---------+------------------+------------------+------------------+------------------+------------------+------------------+----------------+----------------+----------------+----------------+----------------+----------------+-----+-----------------+-------------------------+\n",
      "only showing top 2 rows\n",
      "\n"
     ]
    }
   ],
   "source": [
    "dftrain.show(2)"
   ]
  },
  {
   "cell_type": "code",
   "execution_count": 91,
   "metadata": {
    "collapsed": true,
    "deletable": true,
    "editable": true
   },
   "outputs": [],
   "source": [
    "\n",
    "#kategorik özellikleri indeksliyoruz\n",
    "edustrIdx  = StringIndexer(inputCol='EDUCATION', outputCol= 'EDUCATIONIdx') \n",
    "marstrIdx  = StringIndexer(inputCol='MARRIAGE', outputCol= 'MARRIAGEIdx') \n",
    "sexstrIdx  = StringIndexer(inputCol='SEX', outputCol= 'SEXIdx') \n",
    "\n",
    "#indexleri vector haline getiriyoruz\n",
    "catVect = VectorAssembler(inputCols =['EDUCATIONIdx', 'MARRIAGEIdx', 'SEXIdx' ]  , outputCol=\"catFeatures\")\n",
    "\n",
    "#kategorik veri içeren vektorü indeksliyoruz\n",
    "catIdx = VectorIndexer(inputCol = catVect.getOutputCol(), outputCol = \"idxCatFeatures\")\n",
    "\n",
    "#sayısal veri içeren özellikleri vektör haline getiriyoruz\n",
    "numVect = VectorAssembler(inputCols = ['LIMIT_BAL','PAYMENT_1','REMAINING_AMOUNT_1', 'PAYMENT_AMOUNT_1' ], outputCol=\"numFeatures\")\n",
    "\n",
    "#sayısal veriler üzerinde normallizasyon işlemi ile değerleri belirlenen bir aralığa dönüştürüyoruz\n",
    "minMax = MinMaxScaler(inputCol = numVect.getOutputCol(), outputCol=\"normFeatures\")\n",
    "\n",
    "#kategorik ve sayısal verileri birleştiren bir vektör oluşturuyoruz\n",
    "featVect = VectorAssembler(inputCols=[\"idxCatFeatures\", \"normFeatures\"], outputCol=\"features\")\n",
    "\n",
    "dt = DecisionTreeClassifier(labelCol=\"label\", featuresCol=\"features\")\n",
    "\n"
   ]
  },
  {
   "cell_type": "code",
   "execution_count": 92,
   "metadata": {
    "collapsed": false,
    "deletable": true,
    "editable": true
   },
   "outputs": [
    {
     "name": "stdout",
     "output_type": "stream",
     "text": [
      "Pipeline complete!\n"
     ]
    }
   ],
   "source": [
    "all_stages = [edustrIdx, marstrIdx, sexstrIdx, catVect, catIdx, numVect, minMax, featVect, dt]\n",
    "\n",
    "pipeline = Pipeline(stages=all_stages)\n",
    "\n",
    "pipelineModel = pipeline.fit(dftrain)\n",
    "\n",
    "print \"Pipeline complete!\""
   ]
  },
  {
   "cell_type": "markdown",
   "metadata": {
    "deletable": true,
    "editable": true
   },
   "source": [
    "## Test verisi dönüştürme\n",
    "\n",
    "Eğitim/Train setinde yaptığımız dönüşümleri test seti üzerinde de yapacağız."
   ]
  },
  {
   "cell_type": "code",
   "execution_count": 93,
   "metadata": {
    "collapsed": false,
    "deletable": true,
    "editable": true
   },
   "outputs": [
    {
     "name": "stdout",
     "output_type": "stream",
     "text": [
      "+------+-----------+--------+---------+---+---------+---------+---------+---------+---------+---------+------------------+------------------+------------------+------------------+------------------+------------------+----------------+----------------+----------------+----------------+----------------+----------------+------------------+-------------------------+---------+\n",
      "|   SEX|  EDUCATION|MARRIAGE|LIMIT_BAL|AGE|PAYMENT_1|PAYMENT_2|PAYMENT_3|PAYMENT_4|PAYMENT_5|PAYMENT_6|REMAINING_AMOUNT_1|REMAINING_AMOUNT_2|REMAINING_AMOUNT_3|REMAINING_AMOUNT_4|REMAINING_AMOUNT_5|REMAINING_AMOUNT_6|PAYMENT_AMOUNT_1|PAYMENT_AMOUNT_2|PAYMENT_AMOUNT_3|PAYMENT_AMOUNT_4|PAYMENT_AMOUNT_5|PAYMENT_AMOUNT_6|     LIMIT_PER_AGE|RELATIVE_REMAINING_AMOUNT|trueLabel|\n",
      "+------+-----------+--------+---------+---+---------+---------+---------+---------+---------+---------+------------------+------------------+------------------+------------------+------------------+------------------+----------------+----------------+----------------+----------------+----------------+----------------+------------------+-------------------------+---------+\n",
      "|  Male|MISSING_EDU|  Single|    10000| 44|        0|        0|        0|        0|        0|        0|              8958|              8774|              9461|              9457|              9650|              7500|            1147|            1224|            1000|             193|             150|               0|227.27272727272728|                   0.8958|        0|\n",
      "|Female| Gradschool| Married|    10000| 37|        0|        0|        0|        0|        0|        0|              7600|              8473|              8793|              9106|              7792|              7500|            3000|            3000|            3014|            3000|            3000|            7589|270.27027027027026|                     0.76|        0|\n",
      "|Female| Gradschool| Married|    10000| 23|        0|        0|        0|        0|        0|        0|              7641|              8557|              9080|              1410|              9508|              8997|            1262|            1000|            1115|            9329|             331|            1000| 434.7826086956522|                   0.7641|        0|\n",
      "+------+-----------+--------+---------+---+---------+---------+---------+---------+---------+---------+------------------+------------------+------------------+------------------+------------------+------------------+----------------+----------------+----------------+----------------+----------------+----------------+------------------+-------------------------+---------+\n",
      "only showing top 3 rows\n",
      "\n"
     ]
    }
   ],
   "source": [
    "# Aynı işlemleri test üzerinde de yapıyoruz\n",
    "\n",
    "from pyspark.sql.functions import udf\n",
    "from pyspark.sql.functions import col , column\n",
    "from pyspark.sql.types import DoubleType \n",
    "from pyspark.sql.types import StringType\n",
    "from pyspark.sql.types import IntegerType \n",
    "\n",
    "toIntegerfunc = udf( lambda x: int(x) if x else int(0), IntegerType())\n",
    "toDoublefunc = udf( lambda x: float(x) if x else float(0), DoubleType())\n",
    "toStringfunc = udf( lambda x: x if x else \"other\", StringType())\n",
    "\n",
    "\n",
    "test_df = spark.read.csv(testfile,header='true',sep=\";\")\n",
    "\n",
    "test_df = test_df.withColumn(\"LIMIT_BAL\",toIntegerfunc(test_df['LIMIT_BAL']))\n",
    "test_df = test_df.withColumn(\"AGE\",toIntegerfunc(test_df['AGE']))\n",
    "\n",
    "test_df = test_df.withColumn(\"PAYMENT_1\",toIntegerfunc(test_df['PAYMENT_1']))\n",
    "test_df = test_df.withColumn(\"PAYMENT_2\",toIntegerfunc(test_df['PAYMENT_2']))\n",
    "test_df = test_df.withColumn(\"PAYMENT_3\",toIntegerfunc(test_df['PAYMENT_3']))\n",
    "test_df = test_df.withColumn(\"PAYMENT_4\",toIntegerfunc(test_df['PAYMENT_4']))\n",
    "test_df = test_df.withColumn(\"PAYMENT_5\",toIntegerfunc(test_df['PAYMENT_5']))\n",
    "test_df = test_df.withColumn(\"PAYMENT_6\",toIntegerfunc(test_df['PAYMENT_6']))\n",
    "\n",
    "test_df = test_df.withColumn(\"REMAINING_AMOUNT_1\",toIntegerfunc(test_df['REMAINING_AMOUNT_1']))\n",
    "test_df = test_df.withColumn(\"REMAINING_AMOUNT_2\",toIntegerfunc(test_df['REMAINING_AMOUNT_2']))\n",
    "test_df = test_df.withColumn(\"REMAINING_AMOUNT_3\",toIntegerfunc(test_df['REMAINING_AMOUNT_3']))\n",
    "test_df = test_df.withColumn(\"REMAINING_AMOUNT_4\",toIntegerfunc(test_df['REMAINING_AMOUNT_4']))\n",
    "test_df = test_df.withColumn(\"REMAINING_AMOUNT_5\",toIntegerfunc(test_df['REMAINING_AMOUNT_5']))\n",
    "test_df = test_df.withColumn(\"REMAINING_AMOUNT_6\",toIntegerfunc(test_df['REMAINING_AMOUNT_6']))\n",
    "\n",
    "test_df = test_df.withColumn(\"PAYMENT_AMOUNT_1\",toIntegerfunc(test_df['PAYMENT_AMOUNT_1']))\n",
    "test_df = test_df.withColumn(\"PAYMENT_AMOUNT_2\",toIntegerfunc(test_df['PAYMENT_AMOUNT_2']))\n",
    "test_df = test_df.withColumn(\"PAYMENT_AMOUNT_3\",toIntegerfunc(test_df['PAYMENT_AMOUNT_3']))\n",
    "test_df = test_df.withColumn(\"PAYMENT_AMOUNT_4\",toIntegerfunc(test_df['PAYMENT_AMOUNT_4']))\n",
    "test_df = test_df.withColumn(\"PAYMENT_AMOUNT_5\",toIntegerfunc(test_df['PAYMENT_AMOUNT_5']))\n",
    "test_df = test_df.withColumn(\"PAYMENT_AMOUNT_6\",toIntegerfunc(test_df['PAYMENT_AMOUNT_6']))\n",
    "\n",
    "test_df = test_df.withColumn(\"default\",toIntegerfunc(test_df['default']))\n",
    "\n",
    "test_df = test_df.filter(test_df['LIMIT_BAL']>0)\n",
    "\n",
    "median_dict = dict()\n",
    "median_dict['AGE'] = test_df.stat.approxQuantile('AGE', [0.5], 0.001)[0]\n",
    "test_df = test_df.na.fill(median_dict)\n",
    "\n",
    "test_df = test_df.fillna(na_dict)\n",
    "\n",
    "test_df= test_df.withColumn('LIMIT_PER_AGE', test_df['LIMIT_BAL'] / test_df['AGE'])\n",
    "test_df= test_df.withColumn('RELATIVE_REMAINING_AMOUNT',  test_df['REMAINING_AMOUNT_1'] / test_df['LIMIT_BAL'])\n",
    "\n",
    "test_df= test_df.withColumn('trueLabel', test_df['default'])\n",
    "\n",
    "dftest = test_df.select(categorical_columns + numerical_columns + ['trueLabel'])\n",
    "\n",
    "dftest.show(3)"
   ]
  },
  {
   "cell_type": "markdown",
   "metadata": {
    "deletable": true,
    "editable": true
   },
   "source": [
    "## Test Verisinde Tahmin Yapılması\n",
    "Eğitim seti ile oluşturduğumuz pipeline dan test setini geçiriyoruz ve tahmini sonuçlar ile gerçek sonuçları karşılaştırıyoruz."
   ]
  },
  {
   "cell_type": "code",
   "execution_count": 94,
   "metadata": {
    "collapsed": false,
    "deletable": true,
    "editable": true
   },
   "outputs": [
    {
     "name": "stdout",
     "output_type": "stream",
     "text": [
      "+------------------------------------------------------------------------------+----------+---------+\n",
      "|features                                                                      |prediction|trueLabel|\n",
      "+------------------------------------------------------------------------------+----------+---------+\n",
      "|[3.0,0.0,1.0,0.0,0.1111111111111111,0.15444596939538496,0.0022712871287128714]|0.0       |0        |\n",
      "|[1.0,1.0,0.0,0.0,0.1111111111111111,0.15324429625578825,0.005940594059405941] |0.0       |0        |\n",
      "|[1.0,1.0,0.0,0.0,0.1111111111111111,0.15328057651994398,0.002499009900990099] |0.0       |0        |\n",
      "|[1.0,1.0,1.0,0.0,0.5555555555555556,0.1524868351309762,0.0]                   |1.0       |0        |\n",
      "|(7,[0,5],[1.0,0.14696073148091615])                                           |1.0       |1        |\n",
      "|[1.0,0.0,0.0,0.0,0.3333333333333333,0.14953928488944696,0.0039603960396039604]|1.0       |0        |\n",
      "|[1.0,0.0,0.0,0.0,0.1111111111111111,0.15156920991318398,0.0022237623762376237]|0.0       |0        |\n",
      "|[1.0,0.0,0.0,0.0,0.3333333333333333,0.15229216054282355,0.0025742574257425744]|1.0       |0        |\n",
      "|[1.0,0.0,0.0,0.0,0.1111111111111111,0.15238772806791664,0.0039603960396039604]|0.0       |0        |\n",
      "|(7,[0,4,5],[1.0,0.2222222222222222,0.15251780608818227])                      |1.0       |0        |\n",
      "|[1.0,0.0,0.0,0.0,0.2222222222222222,0.15391326893144003,0.002376237623762376] |1.0       |0        |\n",
      "|[1.0,0.0,0.0,0.0,0.1111111111111111,0.15483443368719865,0.002376237623762376] |0.0       |0        |\n",
      "|[1.0,0.0,0.0,0.0,0.2222222222222222,0.15714309732579057,0.0019801980198019802]|1.0       |0        |\n",
      "|[1.0,0.0,1.0,0.0,0.1111111111111111,0.14783145782065338,9.108910891089108E-5] |0.0       |0        |\n",
      "|[1.0,0.0,1.0,0.0,0.1111111111111111,0.1491260438318684,0.0]                   |0.0       |1        |\n",
      "|[1.0,0.0,1.0,0.0,0.1111111111111111,0.15046310429868037,0.002772277227722772] |0.0       |0        |\n",
      "|[1.0,0.0,1.0,0.0,0.1111111111111111,0.1515116924212298,0.002201980198019802]  |0.0       |0        |\n",
      "|[1.0,0.0,1.0,0.0,0.1111111111111111,0.15235852687969376,0.002772277227722772] |0.0       |0        |\n",
      "|[1.0,0.0,1.0,0.0,0.1111111111111111,0.1526487689929395,0.0029702970297029703] |0.0       |0        |\n",
      "|[1.0,0.0,1.0,0.0,0.3333333333333333,0.1532035915691745,0.0029702970297029703] |1.0       |1        |\n",
      "|[1.0,0.0,1.0,0.0,0.1111111111111111,0.15331508701511648,0.00518019801980198]  |0.0       |1        |\n",
      "|[1.0,0.0,1.0,0.0,0.1111111111111111,0.1533858777744447,0.0029128712871287128] |0.0       |0        |\n",
      "|[1.0,0.0,1.0,0.0,0.1111111111111111,0.15492646167432533,0.0025742574257425744]|0.0       |0        |\n",
      "|(7,[0,1,5],[2.0,1.0,0.1465474904233376])                                      |1.0       |1        |\n",
      "|[2.0,1.0,0.0,0.0,0.3333333333333333,0.14661031722224138,0.0]                  |1.0       |1        |\n",
      "|[2.0,1.0,0.0,0.0,0.3333333333333333,0.14686427907133143,7.722772277227723E-4] |0.0       |0        |\n",
      "|[2.0,1.0,0.0,0.0,0.0,0.14720938402305656,0.002916831683168317]                |1.0       |1        |\n",
      "|(7,[0,1,5],[2.0,1.0,0.14776597636827477])                                     |0.0       |1        |\n",
      "|[2.0,1.0,0.0,0.0,0.4444444444444444,0.14864289689945323,0.0]                  |1.0       |1        |\n",
      "|[2.0,1.0,0.0,0.0,0.3333333333333333,0.14959414772792634,0.0021782178217821784]|1.0       |0        |\n",
      "|[2.0,1.0,0.0,0.0,0.1111111111111111,0.15042682403452465,0.004752475247524752] |0.0       |0        |\n",
      "|[2.0,1.0,0.0,0.0,0.2222222222222222,0.15048257175749563,0.0]                  |1.0       |1        |\n",
      "|[2.0,1.0,0.0,0.0,0.1111111111111111,0.1528027388944784,0.002588118811881188]  |0.0       |1        |\n",
      "|[2.0,1.0,0.0,0.0,0.1111111111111111,0.15300006813610587,0.005166336633663366] |0.0       |0        |\n",
      "|[2.0,1.0,0.0,0.0,0.3333333333333333,0.15333986378088135,0.0049504950495049506]|1.0       |0        |\n",
      "|[2.0,1.0,0.0,0.0,0.6666666666666666,0.15419820173773616,0.0]                  |0.0       |1        |\n",
      "|[2.0,1.0,0.0,0.0,0.3333333333333333,0.1544521635868262,0.002431683168316832]  |1.0       |1        |\n",
      "|[2.0,1.0,0.0,0.0,0.1111111111111111,0.15519723632875582,0.004186138613861386] |0.0       |0        |\n",
      "|[2.0,1.0,0.0,0.0,0.1111111111111111,0.15572197283227635,0.0]                  |0.0       |0        |\n",
      "|[2.0,1.0,1.0,0.0,0.2222222222222222,0.1465191741196063,0.0018811881188118811] |0.0       |0        |\n",
      "|[2.0,1.0,1.0,0.0,0.1111111111111111,0.1506551242333582,0.0039603960396039604] |0.0       |0        |\n",
      "|[2.0,1.0,1.0,0.0,0.2222222222222222,0.1519090055579595,0.0019801980198019802] |1.0       |0        |\n",
      "|[2.0,1.0,1.0,0.0,0.1111111111111111,0.15206739988195642,0.0025742574257425744]|0.0       |0        |\n",
      "|[2.0,1.0,1.0,0.0,0.1111111111111111,0.15255143169886318,0.005124752475247525] |0.0       |1        |\n",
      "|[2.0,1.0,1.0,0.0,0.2222222222222222,0.15268593414158682,0.0]                  |1.0       |1        |\n",
      "|[2.0,1.0,1.0,0.0,0.1111111111111111,0.15312926127187987,0.0022594059405940596]|0.0       |1        |\n",
      "|[2.0,1.0,1.0,0.0,0.1111111111111111,0.15317792991891804,0.0025267326732673267]|0.0       |0        |\n",
      "|[2.0,1.0,1.0,0.0,0.1111111111111111,0.15430792741469493,0.0039603960396039604]|0.0       |0        |\n",
      "|[2.0,1.0,1.0,0.0,0.2222222222222222,0.1546698451717605,0.0]                   |1.0       |1        |\n",
      "|[2.0,1.0,1.0,0.0,0.2222222222222222,0.15613432900536328,0.0]                  |1.0       |1        |\n",
      "|[2.0,0.0,0.0,0.0,0.1111111111111111,0.14747750402401222,0.0015445544554455446]|0.0       |0        |\n",
      "|(7,[0,5,6],[2.0,0.1479287951147297,0.003972277227722773])                     |0.0       |0        |\n",
      "|(7,[0,5,6],[2.0,0.1497675850882805,0.0029702970297029703])                    |0.0       |0        |\n",
      "|[2.0,0.0,0.0,0.0,0.1111111111111111,0.15086218720439326,0.002524752475247525] |0.0       |0        |\n",
      "|[2.0,0.0,0.0,0.0,0.1111111111111111,0.1553786376495344,0.004855445544554455]  |0.0       |1        |\n",
      "|[2.0,0.0,1.0,0.0,0.2222222222222222,0.1465191741196063,0.0]                   |0.0       |0        |\n",
      "|[2.0,0.0,1.0,0.0,0.3333333333333333,0.1466448277174139,0.0]                   |1.0       |1        |\n",
      "|[2.0,0.0,1.0,0.0,0.0,0.14702886758676956,0.007938613861386138]                |0.0       |1        |\n",
      "|[2.0,0.0,1.0,0.0,0.4444444444444444,0.14744830283578933,0.0]                  |1.0       |1        |\n",
      "|[2.0,0.0,1.0,0.0,0.0,0.14798365795320909,0.002916831683168317]                |0.0       |1        |\n",
      "|[2.0,0.0,1.0,0.0,0.1111111111111111,0.1489402180886318,0.005940594059405941]  |0.0       |0        |\n",
      "|[2.0,0.0,1.0,0.0,0.3333333333333333,0.1500436690496606,0.0019801980198019802] |1.0       |1        |\n",
      "|[2.0,0.0,1.0,0.0,0.1111111111111111,0.150102956310598,0.0039603960396039604]  |0.0       |0        |\n",
      "|[2.0,0.0,1.0,0.0,0.1111111111111111,0.15051885202165136,0.0039603960396039604]|0.0       |0        |\n",
      "|[2.0,0.0,1.0,0.0,0.3333333333333333,0.15067193703869866,0.0025742574257425744]|1.0       |1        |\n",
      "|[2.0,0.0,1.0,0.0,0.1111111111111111,0.15076396502582534,0.004752475247524752] |0.0       |0        |\n",
      "|[2.0,0.0,1.0,0.0,0.1111111111111111,0.15161345413776411,0.002376237623762376] |0.0       |0        |\n",
      "|[2.0,0.0,1.0,0.0,0.0,0.15202050100390146,0.010122772277227722]                |0.0       |0        |\n",
      "|[2.0,0.0,1.0,0.0,0.1111111111111111,0.152244376780277,0.002376237623762376]   |0.0       |1        |\n",
      "|[2.0,0.0,1.0,0.0,0.1111111111111111,0.15247267697911054,0.0028633663366336632]|0.0       |0        |\n",
      "|[2.0,0.0,1.0,0.0,0.2222222222222222,0.15391415381593163,0.0]                  |1.0       |1        |\n",
      "|[2.0,0.0,1.0,0.0,0.1111111111111111,0.15406281441052092,0.0029702970297029703]|0.0       |0        |\n",
      "|[2.0,0.0,1.0,0.0,0.1111111111111111,0.15432385533554377,0.0021782178217821784]|0.0       |0        |\n",
      "|[2.0,0.0,1.0,0.0,0.1111111111111111,0.154695506822017,0.0024356435643564356]  |0.0       |0        |\n",
      "|[2.0,0.0,1.0,0.0,0.1111111111111111,0.1547353266241391,5.405940594059406E-4]  |0.0       |0        |\n",
      "|[2.0,0.0,1.0,0.0,0.1111111111111111,0.15500698616306122,0.002277227722772277] |0.0       |1        |\n",
      "|[2.0,2.0,1.0,0.0,0.2222222222222222,0.15378407579566603,0.0]                  |1.0       |0        |\n",
      "|[2.0,2.0,1.0,0.0,0.1111111111111111,0.15490168490856046,0.0025504950495049503]|0.0       |1        |\n",
      "|(7,[1,4,5],[1.0,0.4444444444444444,0.15326287883011191])                      |1.0       |1        |\n",
      "|[0.0,1.0,0.0,0.0,0.1111111111111111,0.15422651804146745,0.002376237623762376] |0.0       |0        |\n",
      "|[0.0,1.0,0.0,0.0,0.1111111111111111,0.1542442157312995,0.00258019801980198]   |0.0       |0        |\n",
      "|[0.0,1.0,0.0,0.0,0.1111111111111111,0.15472116847227346,0.002772277227722772] |0.0       |1        |\n",
      "|(7,[1,4,5],[1.0,0.4444444444444444,0.15558304596709469])                      |1.0       |0        |\n",
      "|(7,[1,4,5],[1.0,0.2222222222222222,0.15681922960186392])                      |1.0       |0        |\n",
      "|[0.0,1.0,1.0,0.0,0.2222222222222222,0.14650147642977424,0.0015841584158415843]|0.0       |1        |\n",
      "|[0.0,1.0,1.0,0.0,0.4444444444444444,0.14744830283578933,0.0]                  |1.0       |1        |\n",
      "|[0.0,1.0,1.0,0.0,0.4444444444444444,0.14864289689945323,0.0]                  |1.0       |1        |\n",
      "|[0.0,1.0,1.0,0.0,0.0,0.14897738323727913,0.0038396039603960396]               |0.0       |0        |\n",
      "|[0.0,1.0,1.0,0.0,0.2222222222222222,0.1504454066088483,0.002277227722772277]  |1.0       |0        |\n",
      "|[0.0,1.0,1.0,0.0,0.3333333333333333,0.15074007314455207,0.00892079207920792]  |1.0       |1        |\n",
      "|[0.0,1.0,1.0,0.0,0.2222222222222222,0.15211252899102815,0.0]                  |1.0       |0        |\n",
      "|[0.0,1.0,1.0,0.0,0.1111111111111111,0.15244436067537923,0.005283168316831683] |0.0       |0        |\n",
      "|[0.0,1.0,1.0,0.0,0.1111111111111111,0.15253461889352274,0.0029702970297029703]|0.0       |1        |\n",
      "|[0.0,1.0,1.0,0.0,0.1111111111111111,0.15265142364641432,0.002108910891089109] |0.0       |0        |\n",
      "|[0.0,1.0,1.0,0.0,0.1111111111111111,0.1528363645051593,0.002772277227722772]  |0.0       |1        |\n",
      "|[0.0,1.0,1.0,0.0,0.1111111111111111,0.15368585361709808,0.0039603960396039604]|0.0       |0        |\n",
      "|[0.0,1.0,1.0,0.0,0.4444444444444444,0.15382920490473775,0.0029702970297029703]|1.0       |1        |\n",
      "|[0.0,1.0,1.0,0.0,0.1111111111111111,0.1538415932876202,0.005544554455445544]  |0.0       |1        |\n",
      "|[0.0,1.0,1.0,0.0,0.2222222222222222,0.15397432596136063,0.0]                  |1.0       |0        |\n",
      "|[0.0,1.0,1.0,0.0,0.1111111111111111,0.15402918879984,0.0039762376237623765]   |0.0       |0        |\n",
      "+------------------------------------------------------------------------------+----------+---------+\n",
      "only showing top 100 rows\n",
      "\n"
     ]
    }
   ],
   "source": [
    "prediction = pipelineModel.transform(dftest)\n",
    "predicted = prediction.select(\"features\", \"prediction\", \"trueLabel\")\n",
    "predicted.show(100, truncate=False)"
   ]
  },
  {
   "cell_type": "markdown",
   "metadata": {
    "deletable": true,
    "editable": true
   },
   "source": [
    "## Tahmin performansının ölçümü\n",
    "\n",
    "Test verisini üzerinde tahminimizin ne kadar doğru olduğunu ölçüyoruz. **Accuracy** , **Precision** ve **Recall** değerleri hedeflerdiğimiz değerlere ulaşıp ulaşmadığını ölçüyoruz."
   ]
  },
  {
   "cell_type": "code",
   "execution_count": 95,
   "metadata": {
    "collapsed": false,
    "deletable": true,
    "editable": true
   },
   "outputs": [
    {
     "name": "stdout",
     "output_type": "stream",
     "text": [
      "+---------+------------------+\n",
      "|   metric|             value|\n",
      "+---------+------------------+\n",
      "|       TP|             793.0|\n",
      "|       FP|             359.0|\n",
      "|       TN|            7542.0|\n",
      "|       FN|            1506.0|\n",
      "| Accuracy| 0.817156862745098|\n",
      "|Precision|0.6883680555555556|\n",
      "|   Recall|0.3449325793823401|\n",
      "+---------+------------------+\n",
      "\n"
     ]
    }
   ],
   "source": [
    "tp = float(predicted.filter(\"prediction == 1.0 AND truelabel == 1\").count())\n",
    "fp = float(predicted.filter(\"prediction == 1.0 AND truelabel == 0\").count())\n",
    "tn = float(predicted.filter(\"prediction == 0.0 AND truelabel == 0\").count())\n",
    "fn = float(predicted.filter(\"prediction == 0.0 AND truelabel == 1\").count())\n",
    "metrics = spark.createDataFrame([\n",
    " (\"TP\", tp),\n",
    " (\"FP\", fp),\n",
    " (\"TN\", tn),\n",
    " (\"FN\", fn),\n",
    " (\"Accuracy\", (tp + tn) / (tp+fp+tn+fn) ),\n",
    " (\"Precision\", tp / (tp + fp)),\n",
    " (\"Recall\", tp / (tp + fn))],[\"metric\", \"value\"])\n",
    "metrics.show()\n",
    "\n"
   ]
  },
  {
   "cell_type": "markdown",
   "metadata": {
    "deletable": true,
    "editable": true
   },
   "source": [
    "Tahmin değerlerinin  ham halleri ve hesaplanan olasılık değerleri de incelenebilir.\n"
   ]
  },
  {
   "cell_type": "code",
   "execution_count": 96,
   "metadata": {
    "collapsed": false,
    "deletable": true,
    "editable": true
   },
   "outputs": [
    {
     "name": "stdout",
     "output_type": "stream",
     "text": [
      "+--------------+----------------------------------------+----------+---------+\n",
      "|rawPrediction |probability                             |prediction|trueLabel|\n",
      "+--------------+----------------------------------------+----------+---------+\n",
      "|[1107.0,293.0]|[0.7907142857142857,0.2092857142857143] |0.0       |0        |\n",
      "|[650.0,182.0] |[0.78125,0.21875]                       |0.0       |0        |\n",
      "|[1107.0,293.0]|[0.7907142857142857,0.2092857142857143] |0.0       |0        |\n",
      "|[139.0,458.0] |[0.23283082077051925,0.7671691792294807]|1.0       |0        |\n",
      "|[5.0,8.0]     |[0.38461538461538464,0.6153846153846154]|1.0       |1        |\n",
      "|[139.0,458.0] |[0.23283082077051925,0.7671691792294807]|1.0       |0        |\n",
      "|[1107.0,293.0]|[0.7907142857142857,0.2092857142857143] |0.0       |0        |\n",
      "|[139.0,458.0] |[0.23283082077051925,0.7671691792294807]|1.0       |0        |\n",
      "|[650.0,182.0] |[0.78125,0.21875]                       |0.0       |0        |\n",
      "|[82.0,109.0]  |[0.4293193717277487,0.5706806282722513] |1.0       |0        |\n",
      "|[82.0,109.0]  |[0.4293193717277487,0.5706806282722513] |1.0       |0        |\n",
      "|[1107.0,293.0]|[0.7907142857142857,0.2092857142857143] |0.0       |0        |\n",
      "|[82.0,109.0]  |[0.4293193717277487,0.5706806282722513] |1.0       |0        |\n",
      "|[1107.0,293.0]|[0.7907142857142857,0.2092857142857143] |0.0       |0        |\n",
      "|[1107.0,293.0]|[0.7907142857142857,0.2092857142857143] |0.0       |1        |\n",
      "|[1107.0,293.0]|[0.7907142857142857,0.2092857142857143] |0.0       |0        |\n",
      "|[1107.0,293.0]|[0.7907142857142857,0.2092857142857143] |0.0       |0        |\n",
      "|[1107.0,293.0]|[0.7907142857142857,0.2092857142857143] |0.0       |0        |\n",
      "|[1107.0,293.0]|[0.7907142857142857,0.2092857142857143] |0.0       |0        |\n",
      "|[139.0,458.0] |[0.23283082077051925,0.7671691792294807]|1.0       |1        |\n",
      "|[650.0,182.0] |[0.78125,0.21875]                       |0.0       |1        |\n",
      "|[1107.0,293.0]|[0.7907142857142857,0.2092857142857143] |0.0       |0        |\n",
      "|[1107.0,293.0]|[0.7907142857142857,0.2092857142857143] |0.0       |0        |\n",
      "|[5.0,8.0]     |[0.38461538461538464,0.6153846153846154]|1.0       |1        |\n",
      "|[5.0,7.0]     |[0.4166666666666667,0.5833333333333334] |1.0       |1        |\n",
      "|[23.0,16.0]   |[0.5897435897435898,0.41025641025641024]|0.0       |0        |\n",
      "|[5.0,8.0]     |[0.38461538461538464,0.6153846153846154]|1.0       |1        |\n",
      "|[1107.0,293.0]|[0.7907142857142857,0.2092857142857143] |0.0       |1        |\n",
      "|[139.0,458.0] |[0.23283082077051925,0.7671691792294807]|1.0       |1        |\n",
      "|[139.0,458.0] |[0.23283082077051925,0.7671691792294807]|1.0       |0        |\n",
      "|[650.0,182.0] |[0.78125,0.21875]                       |0.0       |0        |\n",
      "|[82.0,109.0]  |[0.4293193717277487,0.5706806282722513] |1.0       |1        |\n",
      "|[1107.0,293.0]|[0.7907142857142857,0.2092857142857143] |0.0       |1        |\n",
      "|[650.0,182.0] |[0.78125,0.21875]                       |0.0       |0        |\n",
      "|[139.0,458.0] |[0.23283082077051925,0.7671691792294807]|1.0       |0        |\n",
      "|[5.0,3.0]     |[0.625,0.375]                           |0.0       |1        |\n",
      "|[139.0,458.0] |[0.23283082077051925,0.7671691792294807]|1.0       |1        |\n",
      "|[650.0,182.0] |[0.78125,0.21875]                       |0.0       |0        |\n",
      "|[1107.0,293.0]|[0.7907142857142857,0.2092857142857143] |0.0       |0        |\n",
      "|[248.0,134.0] |[0.6492146596858639,0.3507853403141361] |0.0       |0        |\n",
      "|[650.0,182.0] |[0.78125,0.21875]                       |0.0       |0        |\n",
      "|[82.0,109.0]  |[0.4293193717277487,0.5706806282722513] |1.0       |0        |\n",
      "|[1107.0,293.0]|[0.7907142857142857,0.2092857142857143] |0.0       |0        |\n",
      "|[650.0,182.0] |[0.78125,0.21875]                       |0.0       |1        |\n",
      "|[82.0,109.0]  |[0.4293193717277487,0.5706806282722513] |1.0       |1        |\n",
      "|[1107.0,293.0]|[0.7907142857142857,0.2092857142857143] |0.0       |1        |\n",
      "|[1107.0,293.0]|[0.7907142857142857,0.2092857142857143] |0.0       |0        |\n",
      "|[650.0,182.0] |[0.78125,0.21875]                       |0.0       |0        |\n",
      "|[82.0,109.0]  |[0.4293193717277487,0.5706806282722513] |1.0       |1        |\n",
      "|[82.0,109.0]  |[0.4293193717277487,0.5706806282722513] |1.0       |1        |\n",
      "|[1107.0,293.0]|[0.7907142857142857,0.2092857142857143] |0.0       |0        |\n",
      "|[650.0,182.0] |[0.78125,0.21875]                       |0.0       |0        |\n",
      "|[1107.0,293.0]|[0.7907142857142857,0.2092857142857143] |0.0       |0        |\n",
      "|[1107.0,293.0]|[0.7907142857142857,0.2092857142857143] |0.0       |0        |\n",
      "|[650.0,182.0] |[0.78125,0.21875]                       |0.0       |1        |\n",
      "|[248.0,134.0] |[0.6492146596858639,0.3507853403141361] |0.0       |0        |\n",
      "|[0.0,7.0]     |[0.0,1.0]                               |1.0       |1        |\n",
      "|[650.0,182.0] |[0.78125,0.21875]                       |0.0       |1        |\n",
      "|[139.0,458.0] |[0.23283082077051925,0.7671691792294807]|1.0       |1        |\n",
      "|[1107.0,293.0]|[0.7907142857142857,0.2092857142857143] |0.0       |1        |\n",
      "|[650.0,182.0] |[0.78125,0.21875]                       |0.0       |0        |\n",
      "|[139.0,458.0] |[0.23283082077051925,0.7671691792294807]|1.0       |1        |\n",
      "|[650.0,182.0] |[0.78125,0.21875]                       |0.0       |0        |\n",
      "|[650.0,182.0] |[0.78125,0.21875]                       |0.0       |0        |\n",
      "|[139.0,458.0] |[0.23283082077051925,0.7671691792294807]|1.0       |1        |\n",
      "|[650.0,182.0] |[0.78125,0.21875]                       |0.0       |0        |\n",
      "|[1107.0,293.0]|[0.7907142857142857,0.2092857142857143] |0.0       |0        |\n",
      "|[650.0,182.0] |[0.78125,0.21875]                       |0.0       |0        |\n",
      "|[1107.0,293.0]|[0.7907142857142857,0.2092857142857143] |0.0       |1        |\n",
      "|[1107.0,293.0]|[0.7907142857142857,0.2092857142857143] |0.0       |0        |\n",
      "|[82.0,109.0]  |[0.4293193717277487,0.5706806282722513] |1.0       |1        |\n",
      "|[1107.0,293.0]|[0.7907142857142857,0.2092857142857143] |0.0       |0        |\n",
      "|[1107.0,293.0]|[0.7907142857142857,0.2092857142857143] |0.0       |0        |\n",
      "|[1107.0,293.0]|[0.7907142857142857,0.2092857142857143] |0.0       |0        |\n",
      "|[1107.0,293.0]|[0.7907142857142857,0.2092857142857143] |0.0       |0        |\n",
      "|[1107.0,293.0]|[0.7907142857142857,0.2092857142857143] |0.0       |1        |\n",
      "|[82.0,109.0]  |[0.4293193717277487,0.5706806282722513] |1.0       |0        |\n",
      "|[1107.0,293.0]|[0.7907142857142857,0.2092857142857143] |0.0       |1        |\n",
      "|[139.0,458.0] |[0.23283082077051925,0.7671691792294807]|1.0       |1        |\n",
      "|[1107.0,293.0]|[0.7907142857142857,0.2092857142857143] |0.0       |0        |\n",
      "|[1107.0,293.0]|[0.7907142857142857,0.2092857142857143] |0.0       |0        |\n",
      "|[1107.0,293.0]|[0.7907142857142857,0.2092857142857143] |0.0       |1        |\n",
      "|[139.0,458.0] |[0.23283082077051925,0.7671691792294807]|1.0       |0        |\n",
      "|[82.0,109.0]  |[0.4293193717277487,0.5706806282722513] |1.0       |0        |\n",
      "|[248.0,134.0] |[0.6492146596858639,0.3507853403141361] |0.0       |1        |\n",
      "|[139.0,458.0] |[0.23283082077051925,0.7671691792294807]|1.0       |1        |\n",
      "|[139.0,458.0] |[0.23283082077051925,0.7671691792294807]|1.0       |1        |\n",
      "|[650.0,182.0] |[0.78125,0.21875]                       |0.0       |0        |\n",
      "|[82.0,109.0]  |[0.4293193717277487,0.5706806282722513] |1.0       |0        |\n",
      "|[139.0,458.0] |[0.23283082077051925,0.7671691792294807]|1.0       |1        |\n",
      "|[82.0,109.0]  |[0.4293193717277487,0.5706806282722513] |1.0       |0        |\n",
      "|[650.0,182.0] |[0.78125,0.21875]                       |0.0       |0        |\n",
      "|[1107.0,293.0]|[0.7907142857142857,0.2092857142857143] |0.0       |1        |\n",
      "|[1107.0,293.0]|[0.7907142857142857,0.2092857142857143] |0.0       |0        |\n",
      "|[1107.0,293.0]|[0.7907142857142857,0.2092857142857143] |0.0       |1        |\n",
      "|[650.0,182.0] |[0.78125,0.21875]                       |0.0       |0        |\n",
      "|[139.0,458.0] |[0.23283082077051925,0.7671691792294807]|1.0       |1        |\n",
      "|[650.0,182.0] |[0.78125,0.21875]                       |0.0       |1        |\n",
      "|[82.0,109.0]  |[0.4293193717277487,0.5706806282722513] |1.0       |0        |\n",
      "|[650.0,182.0] |[0.78125,0.21875]                       |0.0       |0        |\n",
      "+--------------+----------------------------------------+----------+---------+\n",
      "only showing top 100 rows\n",
      "\n"
     ]
    }
   ],
   "source": [
    "prediction.select(\"rawPrediction\", \"probability\", \"prediction\", \"trueLabel\").show(100, truncate=False)"
   ]
  },
  {
   "cell_type": "markdown",
   "metadata": {
    "deletable": true,
    "editable": true
   },
   "source": [
    "**ROC**  metriğinde alanın ne kadar olduğu hesaplanabilir. ***Area Under ROC*** ( **AUR** ) değerleri farklı modeller için karşılaştırıldığında, AUR büyük olan model daha başarılıdır.\n"
   ]
  },
  {
   "cell_type": "code",
   "execution_count": 98,
   "metadata": {
    "collapsed": false,
    "deletable": true,
    "editable": true
   },
   "outputs": [
    {
     "name": "stdout",
     "output_type": "stream",
     "text": [
      "AUR =  0.505820423786\n"
     ]
    }
   ],
   "source": [
    "from pyspark.ml.evaluation import BinaryClassificationEvaluator\n",
    "evaluator = BinaryClassificationEvaluator(labelCol=\"trueLabel\", rawPredictionCol=\"rawPrediction\", metricName=\"areaUnderROC\")\n",
    "aur = evaluator.evaluate(prediction)\n",
    "print \"AUR = \", aur\n"
   ]
  },
  {
   "cell_type": "code",
   "execution_count": 102,
   "metadata": {
    "collapsed": false,
    "deletable": true,
    "editable": true
   },
   "outputs": [],
   "source": [
    "# prototip tahminleyici modelimizi kaydedelim.\n",
    "model_path = \"/tmp/\"\n",
    "dtc_path = model_path + 'decisiontree.model'\n",
    "dt.save(dtc_path)\n"
   ]
  },
  {
   "cell_type": "code",
   "execution_count": 103,
   "metadata": {
    "collapsed": false,
    "deletable": true,
    "editable": true
   },
   "outputs": [
    {
     "name": "stdout",
     "output_type": "stream",
     "text": [
      "+----+----------+--------+---------+---+---------+---------+---------+---------+---------+---------+------------------+------------------+------------------+------------------+------------------+------------------+----------------+----------------+----------------+----------------+----------------+----------------+------------------+-------------------------+\n",
      "| SEX| EDUCATION|MARRIAGE|LIMIT_BAL|AGE|PAYMENT_1|PAYMENT_2|PAYMENT_3|PAYMENT_4|PAYMENT_5|PAYMENT_6|REMAINING_AMOUNT_1|REMAINING_AMOUNT_2|REMAINING_AMOUNT_3|REMAINING_AMOUNT_4|REMAINING_AMOUNT_5|REMAINING_AMOUNT_6|PAYMENT_AMOUNT_1|PAYMENT_AMOUNT_2|PAYMENT_AMOUNT_3|PAYMENT_AMOUNT_4|PAYMENT_AMOUNT_5|PAYMENT_AMOUNT_6|     LIMIT_PER_AGE|RELATIVE_REMAINING_AMOUNT|\n",
      "+----+----------+--------+---------+---+---------+---------+---------+---------+---------+---------+------------------+------------------+------------------+------------------+------------------+------------------+----------------+----------------+----------------+----------------+----------------+----------------+------------------+-------------------------+\n",
      "|Male|Gradschool|  Single|    10000| 44|        0|        0|        0|        0|        0|        0|              8958|              8774|              9461|              9457|              9650|              7500|            1147|            1224|            1000|             193|             150|               0|227.27272727272728|                   0.8958|\n",
      "+----+----------+--------+---------+---+---------+---------+---------+---------+---------+---------+------------------+------------------+------------------+------------------+------------------+------------------+----------------+----------------+----------------+----------------+----------------+----------------+------------------+-------------------------+\n",
      "\n",
      "+--------------+--------------------+----------+\n",
      "| rawPrediction|         probability|prediction|\n",
      "+--------------+--------------------+----------+\n",
      "|[1107.0,293.0]|[0.79071428571428...|       0.0|\n",
      "+--------------+--------------------+----------+\n",
      "\n"
     ]
    }
   ],
   "source": [
    "test0 = spark.createDataFrame([('Male','Gradschool', 'Single', 10000,44, 0, 0, 0, 0, 0, 0, 8958, 8774, 9461, 9457, 9650, 7500, 1147, 1224, 1000, 193, 150, 0,227.27272727272728, 0.8958)], \n",
    "   [\"SEX\", \"EDUCATION\",\"MARRIAGE\",\"LIMIT_BAL\", \"AGE\",\"PAYMENT_1\",\"PAYMENT_2\",\"PAYMENT_3\",\"PAYMENT_4\",\"PAYMENT_5\",\"PAYMENT_6\",\"REMAINING_AMOUNT_1\",\"REMAINING_AMOUNT_2\",\"REMAINING_AMOUNT_3\",\"REMAINING_AMOUNT_4\",\"REMAINING_AMOUNT_5\",\"REMAINING_AMOUNT_6\",\"PAYMENT_AMOUNT_1\",\"PAYMENT_AMOUNT_2\",\"PAYMENT_AMOUNT_3\",\"PAYMENT_AMOUNT_4\",\"PAYMENT_AMOUNT_5\",\"PAYMENT_AMOUNT_6\", \"LIMIT_PER_AGE\",\"RELATIVE_REMAINING_AMOUNT\"])\n",
    "\n",
    "test0.show()\n",
    "\n",
    "prediction = pipelineModel.transform(test0)\n",
    "prediction.select(\"rawPrediction\", \"probability\", \"prediction\").show()"
   ]
  },
  {
   "cell_type": "markdown",
   "metadata": {
    "deletable": true,
    "editable": true
   },
   "source": [
    "Perfromans metriği ölçümü için daha önce yaptığımız işlemleri bir fonksiyonda toparlayalım."
   ]
  },
  {
   "cell_type": "code",
   "execution_count": 105,
   "metadata": {
    "collapsed": true,
    "deletable": true,
    "editable": true
   },
   "outputs": [],
   "source": [
    "def getMetrics(prediction):\n",
    "    tp = float(prediction.filter(\"prediction == 1.0 AND truelabel == 1\").count())\n",
    "    fp = float(prediction.filter(\"prediction == 1.0 AND truelabel == 0\").count())\n",
    "    tn = float(prediction.filter(\"prediction == 0.0 AND truelabel == 0\").count())\n",
    "    fn = float(prediction.filter(\"prediction == 0.0 AND truelabel == 1\").count())\n",
    "    \n",
    "    metrics = spark.createDataFrame([\n",
    "     (\"TP\", tp),\n",
    "     (\"FP\", fp),\n",
    "     (\"TN\", tn),\n",
    "     (\"FN\", fn),\n",
    "     (\"Accuracy\", (tp + tn) / (tp+fp+tn+fn) ),\n",
    "     (\"Precision\", tp / (tp + fp)),\n",
    "     (\"Recall\", tp / (tp + fn))],[\"metric\", \"value\"])\n",
    "     \n",
    "    return metrics"
   ]
  },
  {
   "cell_type": "markdown",
   "metadata": {
    "deletable": true,
    "editable": true
   },
   "source": [
    "## Model / Pipeline İyileştirme \n",
    "\n",
    "Modeli, pipeline ı değiştirerek , daha iyi bir  tahmin performansı elde edebilir miyiz ?"
   ]
  },
  {
   "cell_type": "code",
   "execution_count": 106,
   "metadata": {
    "collapsed": true,
    "deletable": true,
    "editable": true
   },
   "outputs": [],
   "source": [
    "#Kategorik özelikleri daha önceki şekilde yapacağımız için değitrmiyoruz\n",
    "#kategorik özellikleri indeksliyoruz\n",
    "#edustrIdx  = StringIndexer(inputCol='EDUCATION', outputCol= 'EDUCATIONIdx') \n",
    "#marstrIdx  = StringIndexer(inputCol='MARRIAGE', outputCol= 'MARRIAGEIdx') \n",
    "#sexstrIdx  = StringIndexer(inputCol='SEX', outputCol= 'SEXIdx') \n",
    "\n",
    "#indexleri vector haline getiriyoruz\n",
    "#catVect = VectorAssembler(inputCols =['EDUCATIONIdx', 'MARRIAGEIdx', 'SEXIdx' ]  , outputCol=\"catFeatures\")\n",
    "\n",
    "#kategorik veri içeren vektorü indeksliyoruz\n",
    "#catIdx = VectorIndexer(inputCol = catVect.getOutputCol(), outputCol = \"idxCatFeatures\")\n",
    "\n",
    "#sayısal veri içeren özellikleri vektör haline getiriyoruz, bu  özelikleri genişletip daraltabiliri, (feature engineering)\n",
    "allnumcols = ['LIMIT_BAL', 'AGE', 'PAYMENT_1', 'PAYMENT_2', 'PAYMENT_3', 'PAYMENT_4', 'PAYMENT_5', 'PAYMENT_6']\n",
    "\n",
    "#['REMAINING_AMOUNT_1', 'REMAINING_AMOUNT_2', 'REMAINING_AMOUNT_3', 'REMAINING_AMOUNT_4', 'REMAINING_AMOUNT_5', 'REMAINING_AMOUNT_6', 'PAYMENT_AMOUNT_1', 'PAYMENT_AMOUNT_2','PAYMENT_AMOUNT_3', 'PAYMENT_AMOUNT_4', 'PAYMENT_AMOUNT_5', 'PAYMENT_AMOUNT_6'] \n",
    "#['LIMIT_PER_AGE', 'RELATIVE_REMAINING_AMOUNT']\n",
    "\n",
    "numVect2 = VectorAssembler(inputCols = allnumcols, outputCol=\"numFeatures\")\n",
    "\n",
    "#sayısal veriler üzerinde normallizasyon işlemi ile değerleri belirlenen bir aralığa dönüştürüyoruz\n",
    "minMax2 = MinMaxScaler(inputCol = numVect.getOutputCol(), outputCol=\"normFeatures\")\n",
    "\n",
    "#kategorik ve sayısal verileri birleştiren bir vektör oluşturuyoruz\n",
    "featVect2 = VectorAssembler(inputCols=[\"idxCatFeatures\", \"normFeatures\"], outputCol=\"features\")\n",
    "\n",
    "#Pipeline da sadece dönüştürme işlemleri olacak\n",
    "all_transform_stages = [edustrIdx, marstrIdx, sexstrIdx, catVect, catIdx, numVect2, minMax2, featVect2]\n",
    "\n",
    "pipeline_transform = Pipeline(stages=all_transform_stages)\n",
    "\n"
   ]
  },
  {
   "cell_type": "code",
   "execution_count": 107,
   "metadata": {
    "collapsed": false,
    "deletable": true,
    "editable": true
   },
   "outputs": [
    {
     "name": "stdout",
     "output_type": "stream",
     "text": [
      "+------+-----------+--------+---------+---+---------+---------+---------+---------+---------+---------+------------------+------------------+------------------+------------------+------------------+------------------+----------------+----------------+----------------+----------------+----------------+----------------+-----+-----------------+-------------------------+------------+-----------+------+-------------+--------------+--------------------+--------------------+--------------------+\n",
      "|   SEX|  EDUCATION|MARRIAGE|LIMIT_BAL|AGE|PAYMENT_1|PAYMENT_2|PAYMENT_3|PAYMENT_4|PAYMENT_5|PAYMENT_6|REMAINING_AMOUNT_1|REMAINING_AMOUNT_2|REMAINING_AMOUNT_3|REMAINING_AMOUNT_4|REMAINING_AMOUNT_5|REMAINING_AMOUNT_6|PAYMENT_AMOUNT_1|PAYMENT_AMOUNT_2|PAYMENT_AMOUNT_3|PAYMENT_AMOUNT_4|PAYMENT_AMOUNT_5|PAYMENT_AMOUNT_6|label|    LIMIT_PER_AGE|RELATIVE_REMAINING_AMOUNT|EDUCATIONIdx|MARRIAGEIdx|SEXIdx|  catFeatures|idxCatFeatures|         numFeatures|        normFeatures|            features|\n",
      "+------+-----------+--------+---------+---+---------+---------+---------+---------+---------+---------+------------------+------------------+------------------+------------------+------------------+------------------+----------------+----------------+----------------+----------------+----------------+----------------+-----+-----------------+-------------------------+------------+-----------+------+-------------+--------------+--------------------+--------------------+--------------------+\n",
      "|  Male|MISSING_EDU| Married|  10000.0| 43|     -1.0|      0.0|      0.0|      0.0|     -1.0|     -1.0|           17560.0|            9829.0|            3604.0|               0.0|               0.0|               0.0|          2537.0|          1000.0|             0.0|             0.0|             0.0|             0.0|    1|232.5581395348837|                    1.756|         3.0|        1.0|   1.0|[3.0,1.0,1.0]| [3.0,1.0,1.0]|[10000.0,43.0,-1....|[0.0,0.5443037974...|[3.0,1.0,1.0,0.0,...|\n",
      "|Female|MISSING_EDU|  Single|  10000.0| 24|     -1.0|      0.0|      0.0|      0.0|      0.0|     -1.0|            5742.0|            4576.0|            4139.0|            2583.0|               0.0|               0.0|          1500.0|          2000.0|           583.0|             0.0|             0.0|             0.0|    0|416.6666666666667|                   0.5742|         3.0|        0.0|   0.0|[3.0,0.0,0.0]| [3.0,0.0,0.0]|(8,[0,1,2,7],[100...|[0.0,0.3037974683...|(11,[0,4,6,7,8,9]...|\n",
      "+------+-----------+--------+---------+---+---------+---------+---------+---------+---------+---------+------------------+------------------+------------------+------------------+------------------+------------------+----------------+----------------+----------------+----------------+----------------+----------------+-----+-----------------+-------------------------+------------+-----------+------+-------------+--------------+--------------------+--------------------+--------------------+\n",
      "only showing top 2 rows\n",
      "\n",
      "+------------+-----------+------+-------------+--------------+--------------------+--------------------+--------------------+-----+\n",
      "|EDUCATIONIdx|MARRIAGEIdx|SEXIdx|  catFeatures|idxCatFeatures|         numFeatures|        normFeatures|            features|label|\n",
      "+------------+-----------+------+-------------+--------------+--------------------+--------------------+--------------------+-----+\n",
      "|         3.0|        1.0|   1.0|[3.0,1.0,1.0]| [3.0,1.0,1.0]|[10000.0,43.0,-1....|[0.0,0.5443037974...|[3.0,1.0,1.0,0.0,...|    1|\n",
      "|         3.0|        0.0|   0.0|[3.0,0.0,0.0]| [3.0,0.0,0.0]|(8,[0,1,2,7],[100...|[0.0,0.3037974683...|(11,[0,4,6,7,8,9]...|    0|\n",
      "|         3.0|        0.0|   0.0|[3.0,0.0,0.0]| [3.0,0.0,0.0]|(8,[0,1,7],[10000...|[0.0,0.2658227848...|[3.0,0.0,0.0,0.0,...|    0|\n",
      "|         3.0|        0.0|   1.0|[3.0,0.0,1.0]| [3.0,0.0,1.0]|[10000.0,35.0,3.0...|[0.0,0.4430379746...|[3.0,0.0,1.0,0.0,...|    0|\n",
      "|         1.0|        0.0|   1.0|[1.0,0.0,1.0]| [1.0,0.0,1.0]|[10000.0,47.0,0.0...|[0.0,0.5949367088...|(11,[0,2,4,5,6,7]...|    0|\n",
      "+------------+-----------+------+-------------+--------------+--------------------+--------------------+--------------------+-----+\n",
      "only showing top 5 rows\n",
      "\n"
     ]
    }
   ],
   "source": [
    "#Eğitim kümesini dönüştürelim\n",
    "dftrain_transform = pipeline_transform.fit(dftrain).transform(dftrain)\n",
    "\n",
    "#Dönüştürülmüş özelliklerin isimlerini ve değerlerini inceleyelim\n",
    "dftrain_transform.show(2)\n",
    "#Pipeline sonucunda oluşan özellikleri inceleyelim.\n",
    "dftrain_transform.select(['EDUCATIONIdx','MARRIAGEIdx','SEXIdx', 'catFeatures', 'idxCatFeatures', 'numFeatures', 'normFeatures', 'features','label']).show(5)\n"
   ]
  },
  {
   "cell_type": "code",
   "execution_count": 108,
   "metadata": {
    "collapsed": false,
    "deletable": true,
    "editable": true
   },
   "outputs": [
    {
     "name": "stdout",
     "output_type": "stream",
     "text": [
      "+------+-----------+--------+---------+---+---------+---------+---------+---------+---------+---------+------------------+------------------+------------------+------------------+------------------+------------------+----------------+----------------+----------------+----------------+----------------+----------------+------------------+-------------------------+---------+------------+-----------+------+-------------+--------------+--------------------+--------------------+--------------------+\n",
      "|   SEX|  EDUCATION|MARRIAGE|LIMIT_BAL|AGE|PAYMENT_1|PAYMENT_2|PAYMENT_3|PAYMENT_4|PAYMENT_5|PAYMENT_6|REMAINING_AMOUNT_1|REMAINING_AMOUNT_2|REMAINING_AMOUNT_3|REMAINING_AMOUNT_4|REMAINING_AMOUNT_5|REMAINING_AMOUNT_6|PAYMENT_AMOUNT_1|PAYMENT_AMOUNT_2|PAYMENT_AMOUNT_3|PAYMENT_AMOUNT_4|PAYMENT_AMOUNT_5|PAYMENT_AMOUNT_6|     LIMIT_PER_AGE|RELATIVE_REMAINING_AMOUNT|trueLabel|EDUCATIONIdx|MARRIAGEIdx|SEXIdx|  catFeatures|idxCatFeatures|         numFeatures|        normFeatures|            features|\n",
      "+------+-----------+--------+---------+---+---------+---------+---------+---------+---------+---------+------------------+------------------+------------------+------------------+------------------+------------------+----------------+----------------+----------------+----------------+----------------+----------------+------------------+-------------------------+---------+------------+-----------+------+-------------+--------------+--------------------+--------------------+--------------------+\n",
      "|  Male|MISSING_EDU|  Single|    10000| 44|        0|        0|        0|        0|        0|        0|              8958|              8774|              9461|              9457|              9650|              7500|            1147|            1224|            1000|             193|             150|               0|227.27272727272728|                   0.8958|        0|         3.0|        0.0|   1.0|[3.0,0.0,1.0]| [3.0,0.0,1.0]|(8,[0,1],[10000.0...|[0.0,0.4259259259...|[3.0,0.0,1.0,0.0,...|\n",
      "|Female| Gradschool| Married|    10000| 37|        0|        0|        0|        0|        0|        0|              7600|              8473|              8793|              9106|              7792|              7500|            3000|            3000|            3014|            3000|            3000|            7589|270.27027027027026|                     0.76|        0|         1.0|        1.0|   0.0|[1.0,1.0,0.0]| [1.0,1.0,0.0]|(8,[0,1],[10000.0...|[0.0,0.2962962962...|[1.0,1.0,0.0,0.0,...|\n",
      "+------+-----------+--------+---------+---+---------+---------+---------+---------+---------+---------+------------------+------------------+------------------+------------------+------------------+------------------+----------------+----------------+----------------+----------------+----------------+----------------+------------------+-------------------------+---------+------------+-----------+------+-------------+--------------+--------------------+--------------------+--------------------+\n",
      "only showing top 2 rows\n",
      "\n"
     ]
    }
   ],
   "source": [
    "#test verisini de aynı pipeline ile dönüştürelim\n",
    "dftest_transform = Pipeline(stages=all_transform_stages).fit(dftest).transform(dftest)\n",
    "dftest_transform.show(2)"
   ]
  },
  {
   "cell_type": "markdown",
   "metadata": {
    "deletable": true,
    "editable": true
   },
   "source": [
    "## Karar Ağacı ile Sınıflandırma\n",
    "\n",
    "Ayrıntılı bilgi için\n",
    "http://spark.apache.org/docs/2.1.0/api/python/pyspark.ml.html?highlight=decisiontreeclassifier#pyspark.ml.classification.DecisionTreeClassifier\n"
   ]
  },
  {
   "cell_type": "code",
   "execution_count": 109,
   "metadata": {
    "collapsed": false,
    "deletable": true,
    "editable": true
   },
   "outputs": [
    {
     "name": "stdout",
     "output_type": "stream",
     "text": [
      "+---------+-------------------+\n",
      "|   metric|              value|\n",
      "+---------+-------------------+\n",
      "|       TP|              827.0|\n",
      "|       FP|              390.0|\n",
      "|       TN|             7511.0|\n",
      "|       FN|             1472.0|\n",
      "| Accuracy| 0.8174509803921569|\n",
      "|Precision| 0.6795398520953163|\n",
      "|   Recall|0.35972161809482384|\n",
      "+---------+-------------------+\n",
      "\n"
     ]
    }
   ],
   "source": [
    "from pyspark.ml.classification import DecisionTreeClassifier\n",
    "\n",
    "dt = DecisionTreeClassifier( labelCol=\"label\", featuresCol=\"features\")\n",
    "\n",
    "model = dt.fit(dftrain_transform)\n",
    "\n",
    "prediction = model.transform(dftest_transform)\n",
    "\n",
    "getMetrics(prediction).show()"
   ]
  },
  {
   "cell_type": "markdown",
   "metadata": {
    "deletable": true,
    "editable": true
   },
   "source": [
    "Kullandığımız Karar ağacının özelliklerini inceleyelim"
   ]
  },
  {
   "cell_type": "code",
   "execution_count": 110,
   "metadata": {
    "collapsed": false,
    "deletable": true,
    "editable": true
   },
   "outputs": [
    {
     "name": "stdout",
     "output_type": "stream",
     "text": [
      "impurity  gini\n",
      "Model depth 5\n",
      "Model nodes 59\n",
      "Feature Importances (11,[0,3,4,5,6,7,8,9,10],[0.0065278466102,0.0352388490962,0.00536355126512,0.732617936613,0.141709543019,0.00207917227261,0.0391378700089,0.0282183799397,0.00910685117576])\n",
      "Number of features 11\n"
     ]
    }
   ],
   "source": [
    "print 'impurity ', dt.getImpurity()\n",
    "print 'Model depth', model.depth\n",
    "print 'Model nodes', model.numNodes\n",
    "print 'Feature Importances', model.featureImportances\n",
    "print 'Number of features', model.numFeatures"
   ]
  },
  {
   "cell_type": "code",
   "execution_count": 111,
   "metadata": {
    "collapsed": false,
    "deletable": true,
    "editable": true
   },
   "outputs": [
    {
     "name": "stdout",
     "output_type": "stream",
     "text": [
      "DecisionTreeClassificationModel (uid=DecisionTreeClassifier_4ec797d9732afed652f4) of depth 5 with 59 nodes\n",
      "  If (feature 5 <= 0.2777777777777778)\n",
      "   If (feature 6 <= 0.3125)\n",
      "    If (feature 8 <= 0.3125)\n",
      "     If (feature 5 <= 0.16666666666666666)\n",
      "      If (feature 3 <= 0.05555555555555555)\n",
      "       Predict: 0.0\n",
      "      Else (feature 3 > 0.05555555555555555)\n",
      "       Predict: 0.0\n",
      "     Else (feature 5 > 0.16666666666666666)\n",
      "      If (feature 10 <= 0.0625)\n",
      "       Predict: 0.0\n",
      "      Else (feature 10 > 0.0625)\n",
      "       Predict: 0.0\n",
      "    Else (feature 8 > 0.3125)\n",
      "     If (feature 9 <= 0.25)\n",
      "      If (feature 3 <= 0.17676767676767677)\n",
      "       Predict: 0.0\n",
      "      Else (feature 3 > 0.17676767676767677)\n",
      "       Predict: 0.0\n",
      "     Else (feature 9 > 0.25)\n",
      "      If (feature 3 <= 0.11616161616161616)\n",
      "       Predict: 0.0\n",
      "      Else (feature 3 > 0.11616161616161616)\n",
      "       Predict: 0.0\n",
      "   Else (feature 6 > 0.3125)\n",
      "    If (feature 9 <= 0.25)\n",
      "     If (feature 3 <= 0.03535353535353536)\n",
      "      If (feature 10 <= 0.4375)\n",
      "       Predict: 0.0\n",
      "      Else (feature 10 > 0.4375)\n",
      "       Predict: 1.0\n",
      "     Else (feature 3 > 0.03535353535353536)\n",
      "      If (feature 3 <= 0.48989898989898994)\n",
      "       Predict: 0.0\n",
      "      Else (feature 3 > 0.48989898989898994)\n",
      "       Predict: 0.0\n",
      "    Else (feature 9 > 0.25)\n",
      "     If (feature 10 <= 0.25)\n",
      "      If (feature 3 <= 0.015151515151515152)\n",
      "       Predict: 1.0\n",
      "      Else (feature 3 > 0.015151515151515152)\n",
      "       Predict: 0.0\n",
      "     Else (feature 10 > 0.25)\n",
      "      If (feature 7 <= 0.16666666666666666)\n",
      "       Predict: 1.0\n",
      "      Else (feature 7 > 0.16666666666666666)\n",
      "       Predict: 1.0\n",
      "  Else (feature 5 > 0.2777777777777778)\n",
      "   If (feature 9 <= 0.25)\n",
      "    If (feature 0 in {3.0})\n",
      "     If (feature 8 <= 0.1875)\n",
      "      If (feature 3 <= 0.045454545454545456)\n",
      "       Predict: 0.0\n",
      "      Else (feature 3 > 0.045454545454545456)\n",
      "       Predict: 0.0\n",
      "     Else (feature 8 > 0.1875)\n",
      "      Predict: 1.0\n",
      "    Else (feature 0 not in {3.0})\n",
      "     If (feature 6 <= 0.0625)\n",
      "      If (feature 4 <= 0.5)\n",
      "       Predict: 0.0\n",
      "      Else (feature 4 > 0.5)\n",
      "       Predict: 1.0\n",
      "     Else (feature 6 > 0.0625)\n",
      "      If (feature 4 <= 0.639240506329114)\n",
      "       Predict: 1.0\n",
      "      Else (feature 4 > 0.639240506329114)\n",
      "       Predict: 1.0\n",
      "   Else (feature 9 > 0.25)\n",
      "    If (feature 8 <= 0.0625)\n",
      "     If (feature 3 <= 0.025252525252525256)\n",
      "      Predict: 0.0\n",
      "     Else (feature 3 > 0.025252525252525256)\n",
      "      If (feature 3 <= 0.045454545454545456)\n",
      "       Predict: 1.0\n",
      "      Else (feature 3 > 0.045454545454545456)\n",
      "       Predict: 0.0\n",
      "    Else (feature 8 > 0.0625)\n",
      "     If (feature 5 <= 0.6111111111111112)\n",
      "      If (feature 5 <= 0.38888888888888884)\n",
      "       Predict: 1.0\n",
      "      Else (feature 5 > 0.38888888888888884)\n",
      "       Predict: 1.0\n",
      "     Else (feature 5 > 0.6111111111111112)\n",
      "      If (feature 3 <= 0.14646464646464646)\n",
      "       Predict: 0.0\n",
      "      Else (feature 3 > 0.14646464646464646)\n",
      "       Predict: 1.0\n",
      "\n"
     ]
    }
   ],
   "source": [
    "print(model.toDebugString)"
   ]
  },
  {
   "cell_type": "markdown",
   "metadata": {
    "deletable": true,
    "editable": true
   },
   "source": [
    "### SORU - 1\n",
    "Karar ağacında maxDepth parametresini 30 olan bir model oluşturun ve performansını ölçün\n"
   ]
  },
  {
   "cell_type": "code",
   "execution_count": null,
   "metadata": {
    "collapsed": false,
    "deletable": true,
    "editable": true
   },
   "outputs": [],
   "source": [
    "\n",
    "print(\".....\")\n",
    "dt = DecisionTreeClassifier( ..... )\n",
    "\n",
    "model = dt.fit(.....)\n",
    "\n",
    "prediction = model.transform(....)\n",
    "\n",
    "getMetrics(prediction).show()"
   ]
  },
  {
   "cell_type": "markdown",
   "metadata": {
    "deletable": true,
    "editable": true
   },
   "source": [
    "### SORU - 2\n",
    "Daha fazla özellik seçerek modeli eğitin ve perfromansını ölçün\n"
   ]
  },
  {
   "cell_type": "code",
   "execution_count": null,
   "metadata": {
    "collapsed": true,
    "deletable": true,
    "editable": true
   },
   "outputs": [],
   "source": [
    "allnumcols = [....]\n",
    "\n",
    "numVect3 = VectorAssembler(inputCols = allnumcols, outputCol=\"numFeatures\")\n",
    "\n",
    "#sayısal veriler üzerinde normallizasyon işlemi ile değerleri belirlenen bir aralığa dönüştürüyoruz\n",
    "minMax3 = MinMaxScaler(inputCol = numVect.getOutputCol(), outputCol=\"normFeatures\")\n",
    "\n",
    "#kategorik ve sayısal verileri birleştiren bir vektör oluşturuyoruz\n",
    "featVect3 = VectorAssembler(inputCols=[\"idxCatFeatures\", \"normFeatures\"], outputCol=\"features\")\n",
    "\n",
    "#Pipeline da sadece dönüştürme işlemleri olacak\n",
    "soru_transform_stages = [....]\n",
    "\n",
    "soru_pipeline_transform = Pipeline(stages=......)\n",
    "\n",
    "#Eğitim kümesini dönüştürelim\n",
    "soru_dftrain_transform = soru_pipeline_transform.fit(...).transform(....)\n",
    "\n",
    "soru_dftest_transform = Pipeline(stages=....).fit(...).transform(...)\n",
    "\n",
    "dt = DecisionTreeClassifier( ..... )\n",
    "\n",
    "model = dt.fit(.....)\n",
    "\n",
    "prediction = model.transform(....)\n",
    "\n",
    "getMetrics(prediction).show()\n",
    "\n"
   ]
  },
  {
   "cell_type": "markdown",
   "metadata": {
    "deletable": true,
    "editable": true
   },
   "source": [
    "## Lojistik Regresyon ile Sınıflandırma\n",
    "Ayrıntılı bilgi için \n",
    "http://spark.apache.org/docs/2.1.0/api/python/pyspark.ml.html?highlight=logisticregression#pyspark.ml.classification.LogisticRegression\n"
   ]
  },
  {
   "cell_type": "code",
   "execution_count": 113,
   "metadata": {
    "collapsed": false,
    "deletable": true,
    "editable": true
   },
   "outputs": [
    {
     "name": "stdout",
     "output_type": "stream",
     "text": [
      "+---------+--------------------+\n",
      "|   metric|               value|\n",
      "+---------+--------------------+\n",
      "|       TP|               111.0|\n",
      "|       FP|                47.0|\n",
      "|       TN|              7854.0|\n",
      "|       FN|              2188.0|\n",
      "| Accuracy|  0.7808823529411765|\n",
      "|Precision|  0.7025316455696202|\n",
      "|   Recall|0.048281861678990866|\n",
      "+---------+--------------------+\n",
      "\n"
     ]
    }
   ],
   "source": [
    "from pyspark.ml.classification import LogisticRegression\n",
    "from pyspark.ml.evaluation import BinaryClassificationEvaluator\n",
    "\n",
    "lr = LogisticRegression(labelCol=\"label\",featuresCol=\"features\",maxIter=10,regParam=0.3)\n",
    "\n",
    "model = lr.fit(dftrain_transform)\n",
    "\n",
    "prediction = model.transform(dftest_transform)\n",
    "\n",
    "getMetrics(prediction).show()"
   ]
  },
  {
   "cell_type": "markdown",
   "metadata": {
    "deletable": true,
    "editable": true
   },
   "source": [
    "Parametreleri değiştirerek modeli eğitelim. Threshold değerini 0.35 olarak verelim."
   ]
  },
  {
   "cell_type": "code",
   "execution_count": 114,
   "metadata": {
    "collapsed": false,
    "deletable": true,
    "editable": true
   },
   "outputs": [
    {
     "name": "stdout",
     "output_type": "stream",
     "text": [
      "+---------+-------------------+\n",
      "|   metric|              value|\n",
      "+---------+-------------------+\n",
      "|       TP|              552.0|\n",
      "|       FP|              271.0|\n",
      "|       TN|             7630.0|\n",
      "|       FN|             1747.0|\n",
      "| Accuracy|  0.802156862745098|\n",
      "|Precision| 0.6707168894289186|\n",
      "|   Recall|0.24010439321444105|\n",
      "+---------+-------------------+\n",
      "\n"
     ]
    }
   ],
   "source": [
    "lr = LogisticRegression(labelCol=\"label\",featuresCol=\"features\",maxIter=10,regParam=0.3, threshold=0.35)\n",
    "\n",
    "model = lr.fit(dftrain_transform)\n",
    "\n",
    "prediction = model.transform(dftest_transform)\n",
    "\n",
    "getMetrics(prediction).show()"
   ]
  },
  {
   "cell_type": "markdown",
   "metadata": {
    "deletable": true,
    "editable": true
   },
   "source": [
    "### SORU- 3\n",
    "\n",
    "soru - 2 de kullandığnız özelikleri (feature vector) lojistik regresyon sınıflandırıcısı kullanarak model , oluşturup perfromansını ökçünüz.\n"
   ]
  },
  {
   "cell_type": "code",
   "execution_count": null,
   "metadata": {
    "collapsed": true,
    "deletable": true,
    "editable": true
   },
   "outputs": [],
   "source": [
    "lr = LogisticRegression( ..... )\n",
    "\n",
    "model = lr.fit(.....)\n",
    "\n",
    "prediction = model.transform(....)\n",
    "\n",
    "getMetrics(prediction).show()\n",
    "\n"
   ]
  },
  {
   "cell_type": "markdown",
   "metadata": {
    "deletable": true,
    "editable": true
   },
   "source": [
    "### SORU - 4 \n",
    "Bu çalışma nın sonunda elde ettiğiniz bilgileri bir rapor/sunum haline getiriniz. Ana başlıkları aşağıdaki gibi kullanabilirsiniz.\n",
    "\n"
   ]
  },
  {
   "cell_type": "markdown",
   "metadata": {
    "deletable": true,
    "editable": true
   },
   "source": [
    "\n",
    "## < Raporun Başlığı >\n",
    "\n",
    "### Özet\n",
    "Analiz kapsamı çalışması kapsamında çözüm bulmaya çalıştığınız probleminizi, sorularınızı  ve bulgularınızı 1 kısa paragrafta özetleyin (en fazla 4-6 cümle). Özet kısmında hangi veri setini, hangi soruyu, hangi yöntemi kullandığını ve bulguları kısaca yazınız.\n",
    "\n",
    "### Motivasyon\n",
    "Veriyle çözmek istediğiniz problemi açıklayınız. Hedefiniz, kitlenizin çözmeye çalıştığınız proje / sorunla ilgilenmesini sağlamaktır. Keşfedilen sorunun ve nedeninin (ve kime) anliz çalışmasının değerli olduğunu belirtmeniz gerekir.\n",
    "\n",
    "### Veri Seti\n",
    "Veri setini burada açıklayınız. Veri kümesindeki hangi verilerin olduğunu, ne kadar verinin olduğunu ve veri kümesini nerede bulduğunuzu (varsa) yazınız.\n",
    "\n",
    "### Veri Hazırlama ve Temizleme\n",
    "Verileri analiz için hazırlamak için ne yapmanız gerekiyor? Varsa, hangi veri kümesiyle karşılaştığınız sorunları tanımlayınız.\n",
    "\n",
    "### Araştırma Konusu\n",
    "Veri setini kullanarak cevaplamayı amaçladığınız araştırma sorunuz nedir? Araştırma sorununun iyi tanımlanmış olduğundan emin olunuz (ayrıntılar için proje açıklamasına bakın).\n",
    "\n",
    "### Yöntem\n",
    "Verileri analiz etmek için hangi yöntemleri kullandınız ve neden bunları uygun buldunuz? Yöntemlerinizi  yeterli derecede (kısa olmak kayyadıyla) tarif ediniz.\n",
    "\n",
    "### Bulgular\n",
    "Bulgularınızı anlatın. Raporunuza en az bir görselleştirme ekleyiniz (daha fazla bilgi ekleyebilirsiniz). Genel bir izleyici için görselleştirme doğru, erişilebilir ve zarif olmalıdır.\n",
    "Kesin bir sonuca varmanız gerekmese de bulgularınızın araştırma sorunuzla nasıl ilişkili olduğunu anlatmalısınız.\n",
    "\n",
    "### Kısıtlar\n",
    "Mümkünse, bulgularınıza kısıtlarınızı yazınız. Örneğin, bu sonuçların Tayvan banka müşterileriiçin geçerli olduğunu, ancak banka  yapılarındaki farklılıklardan dolayı diğer bankalara uygulanamayabilir olduğunu unutmayınız.\n",
    "\n",
    "### Değerlendirmeler\n",
    "Genel sonuçlarınızı ve değerlendirmelerinizi yazınız.\n",
    "\n",
    "### Teşekkür\n",
    "Verilerinizi nereden buldunuz? Çalışmalarınızı bilgilendirmek için diğer gayrı resmi analiz kullandınız mı? Arkadaşlarınız veya meslektaşlarınız tarafından çalışmalarınız hakkında geribildirim aldınız mı? \n",
    "\n",
    "### Referanslar\n",
    "Mümkünse, çalışmalarınızda kullandığınız referansları yazınız."
   ]
  },
  {
   "cell_type": "code",
   "execution_count": null,
   "metadata": {
    "collapsed": true,
    "deletable": true,
    "editable": true
   },
   "outputs": [],
   "source": []
  }
 ],
 "metadata": {
  "kernelspec": {
   "display_name": "Apache Toree - PySpark",
   "language": "python",
   "name": "apache_toree_pyspark"
  },
  "language_info": {
   "file_extension": ".py",
   "name": "python",
   "pygments_lexer": "python",
   "version": "2.7.11\n"
  }
 },
 "nbformat": 4,
 "nbformat_minor": 0
}
